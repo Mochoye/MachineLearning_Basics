{
  "nbformat": 4,
  "nbformat_minor": 0,
  "metadata": {
    "colab": {
      "provenance": []
    },
    "kernelspec": {
      "name": "python3",
      "display_name": "Python 3"
    },
    "language_info": {
      "name": "python"
    }
  },
  "cells": [
    {
      "cell_type": "code",
      "source": [
        "#NATURAL LANGUAGE PROCESSING \n",
        "s = ['Congrats. You have won lottery and you can get lottery money by calling lottery number.',\n",
        "    'Give your bank account details to claim lottery.',\n",
        "     'lottery for sure if bank account details are verified.']"
      ],
      "metadata": {
        "id": "CiyrUhaDou_9"
      },
      "execution_count": null,
      "outputs": []
    },
    {
      "cell_type": "code",
      "source": [
        "type(s)"
      ],
      "metadata": {
        "colab": {
          "base_uri": "https://localhost:8080/"
        },
        "id": "-vB8iIwHpPnO",
        "outputId": "ef2f99a7-2caf-479a-844f-beb2d223feb2"
      },
      "execution_count": null,
      "outputs": [
        {
          "output_type": "execute_result",
          "data": {
            "text/plain": [
              "list"
            ]
          },
          "metadata": {},
          "execution_count": 3
        }
      ]
    },
    {
      "cell_type": "code",
      "source": [
        "#tokenization - splitting of data into smaller elements "
      ],
      "metadata": {
        "id": "dxtaHSdFpSco"
      },
      "execution_count": null,
      "outputs": []
    },
    {
      "cell_type": "code",
      "source": [
        "s[0].split()"
      ],
      "metadata": {
        "colab": {
          "base_uri": "https://localhost:8080/"
        },
        "id": "6UE9DOV5pXnP",
        "outputId": "9019688b-3338-4513-8585-d75ecba24fd2"
      },
      "execution_count": null,
      "outputs": [
        {
          "output_type": "execute_result",
          "data": {
            "text/plain": [
              "['Congrats.',\n",
              " 'You',\n",
              " 'have',\n",
              " 'won',\n",
              " 'lottery',\n",
              " 'and',\n",
              " 'you',\n",
              " 'can',\n",
              " 'get',\n",
              " 'lottery',\n",
              " 'money',\n",
              " 'by',\n",
              " 'calling',\n",
              " 'lottery',\n",
              " 'number.']"
            ]
          },
          "metadata": {},
          "execution_count": 5
        }
      ]
    },
    {
      "cell_type": "code",
      "source": [
        "s[1].split()"
      ],
      "metadata": {
        "colab": {
          "base_uri": "https://localhost:8080/"
        },
        "id": "Fu0weg5NpZqc",
        "outputId": "41ae897d-995a-4983-eb51-5e7a8d7686ea"
      },
      "execution_count": null,
      "outputs": [
        {
          "output_type": "execute_result",
          "data": {
            "text/plain": [
              "['Give', 'your', 'bank', 'account', 'details', 'to', 'claim', 'lottery.']"
            ]
          },
          "metadata": {},
          "execution_count": 6
        }
      ]
    },
    {
      "cell_type": "code",
      "source": [
        "s[2].split()"
      ],
      "metadata": {
        "colab": {
          "base_uri": "https://localhost:8080/"
        },
        "id": "62RH_EHepcPN",
        "outputId": "72a08b90-2882-4a59-baa8-e97686e8611e"
      },
      "execution_count": null,
      "outputs": [
        {
          "output_type": "execute_result",
          "data": {
            "text/plain": [
              "['lottery',\n",
              " 'for',\n",
              " 'sure',\n",
              " 'if',\n",
              " 'bank',\n",
              " 'account',\n",
              " 'details',\n",
              " 'are',\n",
              " 'verified.']"
            ]
          },
          "metadata": {},
          "execution_count": 7
        }
      ]
    },
    {
      "cell_type": "code",
      "source": [
        "# applying count vectorizer / bag of words technique\n",
        "# count vectorizer is a feature extraction technique \n",
        "# Feature extraction refers to the process of transforming raw data into numerical features \n",
        "# that can be processed while preserving the information in the original data set. \n",
        "# It yields better results than applying machine learning directly to the raw data."
      ],
      "metadata": {
        "id": "NJyiXPyjpdRW"
      },
      "execution_count": null,
      "outputs": []
    },
    {
      "cell_type": "code",
      "source": [
        "from sklearn.feature_extraction.text import CountVectorizer \n",
        "vect = CountVectorizer(stop_words = 'english')"
      ],
      "metadata": {
        "id": "ejynb4Zep1_x"
      },
      "execution_count": null,
      "outputs": []
    },
    {
      "cell_type": "code",
      "source": [
        "op = vect.fit_transform(s).toarray() #appyling the count vectorizer \n",
        "op"
      ],
      "metadata": {
        "colab": {
          "base_uri": "https://localhost:8080/"
        },
        "id": "sc5Bdw6DqERR",
        "outputId": "4a56fc48-64a8-4000-ae63-44b789011dc1"
      },
      "execution_count": null,
      "outputs": [
        {
          "output_type": "execute_result",
          "data": {
            "text/plain": [
              "array([[0, 0, 1, 0, 1, 0, 3, 1, 1, 0, 0, 1],\n",
              "       [1, 1, 0, 1, 0, 1, 1, 0, 0, 0, 0, 0],\n",
              "       [1, 1, 0, 0, 0, 1, 1, 0, 0, 1, 1, 0]])"
            ]
          },
          "metadata": {},
          "execution_count": 16
        }
      ]
    },
    {
      "cell_type": "code",
      "source": [
        "import pandas as pd \n",
        "df = pd.DataFrame(op,columns = vect.get_feature_names()) #create a dataframe and name the columns with each unique token\n",
        "df"
      ],
      "metadata": {
        "colab": {
          "base_uri": "https://localhost:8080/",
          "height": 198
        },
        "id": "fL9xBX3BqL-g",
        "outputId": "2a4a955e-6b66-41b2-f9a3-3a6298073e93"
      },
      "execution_count": null,
      "outputs": [
        {
          "output_type": "stream",
          "name": "stderr",
          "text": [
            "/usr/local/lib/python3.7/dist-packages/sklearn/utils/deprecation.py:87: FutureWarning: Function get_feature_names is deprecated; get_feature_names is deprecated in 1.0 and will be removed in 1.2. Please use get_feature_names_out instead.\n",
            "  warnings.warn(msg, category=FutureWarning)\n"
          ]
        },
        {
          "output_type": "execute_result",
          "data": {
            "text/plain": [
              "   account  bank  calling  claim  congrats  details  lottery  money  number  \\\n",
              "0        0     0        1      0         1        0        3      1       1   \n",
              "1        1     1        0      1         0        1        1      0       0   \n",
              "2        1     1        0      0         0        1        1      0       0   \n",
              "\n",
              "   sure  verified  won  \n",
              "0     0         0    1  \n",
              "1     0         0    0  \n",
              "2     1         1    0  "
            ],
            "text/html": [
              "\n",
              "  <div id=\"df-26c8043f-0400-484a-be47-f4d3c5a951b9\">\n",
              "    <div class=\"colab-df-container\">\n",
              "      <div>\n",
              "<style scoped>\n",
              "    .dataframe tbody tr th:only-of-type {\n",
              "        vertical-align: middle;\n",
              "    }\n",
              "\n",
              "    .dataframe tbody tr th {\n",
              "        vertical-align: top;\n",
              "    }\n",
              "\n",
              "    .dataframe thead th {\n",
              "        text-align: right;\n",
              "    }\n",
              "</style>\n",
              "<table border=\"1\" class=\"dataframe\">\n",
              "  <thead>\n",
              "    <tr style=\"text-align: right;\">\n",
              "      <th></th>\n",
              "      <th>account</th>\n",
              "      <th>bank</th>\n",
              "      <th>calling</th>\n",
              "      <th>claim</th>\n",
              "      <th>congrats</th>\n",
              "      <th>details</th>\n",
              "      <th>lottery</th>\n",
              "      <th>money</th>\n",
              "      <th>number</th>\n",
              "      <th>sure</th>\n",
              "      <th>verified</th>\n",
              "      <th>won</th>\n",
              "    </tr>\n",
              "  </thead>\n",
              "  <tbody>\n",
              "    <tr>\n",
              "      <th>0</th>\n",
              "      <td>0</td>\n",
              "      <td>0</td>\n",
              "      <td>1</td>\n",
              "      <td>0</td>\n",
              "      <td>1</td>\n",
              "      <td>0</td>\n",
              "      <td>3</td>\n",
              "      <td>1</td>\n",
              "      <td>1</td>\n",
              "      <td>0</td>\n",
              "      <td>0</td>\n",
              "      <td>1</td>\n",
              "    </tr>\n",
              "    <tr>\n",
              "      <th>1</th>\n",
              "      <td>1</td>\n",
              "      <td>1</td>\n",
              "      <td>0</td>\n",
              "      <td>1</td>\n",
              "      <td>0</td>\n",
              "      <td>1</td>\n",
              "      <td>1</td>\n",
              "      <td>0</td>\n",
              "      <td>0</td>\n",
              "      <td>0</td>\n",
              "      <td>0</td>\n",
              "      <td>0</td>\n",
              "    </tr>\n",
              "    <tr>\n",
              "      <th>2</th>\n",
              "      <td>1</td>\n",
              "      <td>1</td>\n",
              "      <td>0</td>\n",
              "      <td>0</td>\n",
              "      <td>0</td>\n",
              "      <td>1</td>\n",
              "      <td>1</td>\n",
              "      <td>0</td>\n",
              "      <td>0</td>\n",
              "      <td>1</td>\n",
              "      <td>1</td>\n",
              "      <td>0</td>\n",
              "    </tr>\n",
              "  </tbody>\n",
              "</table>\n",
              "</div>\n",
              "      <button class=\"colab-df-convert\" onclick=\"convertToInteractive('df-26c8043f-0400-484a-be47-f4d3c5a951b9')\"\n",
              "              title=\"Convert this dataframe to an interactive table.\"\n",
              "              style=\"display:none;\">\n",
              "        \n",
              "  <svg xmlns=\"http://www.w3.org/2000/svg\" height=\"24px\"viewBox=\"0 0 24 24\"\n",
              "       width=\"24px\">\n",
              "    <path d=\"M0 0h24v24H0V0z\" fill=\"none\"/>\n",
              "    <path d=\"M18.56 5.44l.94 2.06.94-2.06 2.06-.94-2.06-.94-.94-2.06-.94 2.06-2.06.94zm-11 1L8.5 8.5l.94-2.06 2.06-.94-2.06-.94L8.5 2.5l-.94 2.06-2.06.94zm10 10l.94 2.06.94-2.06 2.06-.94-2.06-.94-.94-2.06-.94 2.06-2.06.94z\"/><path d=\"M17.41 7.96l-1.37-1.37c-.4-.4-.92-.59-1.43-.59-.52 0-1.04.2-1.43.59L10.3 9.45l-7.72 7.72c-.78.78-.78 2.05 0 2.83L4 21.41c.39.39.9.59 1.41.59.51 0 1.02-.2 1.41-.59l7.78-7.78 2.81-2.81c.8-.78.8-2.07 0-2.86zM5.41 20L4 18.59l7.72-7.72 1.47 1.35L5.41 20z\"/>\n",
              "  </svg>\n",
              "      </button>\n",
              "      \n",
              "  <style>\n",
              "    .colab-df-container {\n",
              "      display:flex;\n",
              "      flex-wrap:wrap;\n",
              "      gap: 12px;\n",
              "    }\n",
              "\n",
              "    .colab-df-convert {\n",
              "      background-color: #E8F0FE;\n",
              "      border: none;\n",
              "      border-radius: 50%;\n",
              "      cursor: pointer;\n",
              "      display: none;\n",
              "      fill: #1967D2;\n",
              "      height: 32px;\n",
              "      padding: 0 0 0 0;\n",
              "      width: 32px;\n",
              "    }\n",
              "\n",
              "    .colab-df-convert:hover {\n",
              "      background-color: #E2EBFA;\n",
              "      box-shadow: 0px 1px 2px rgba(60, 64, 67, 0.3), 0px 1px 3px 1px rgba(60, 64, 67, 0.15);\n",
              "      fill: #174EA6;\n",
              "    }\n",
              "\n",
              "    [theme=dark] .colab-df-convert {\n",
              "      background-color: #3B4455;\n",
              "      fill: #D2E3FC;\n",
              "    }\n",
              "\n",
              "    [theme=dark] .colab-df-convert:hover {\n",
              "      background-color: #434B5C;\n",
              "      box-shadow: 0px 1px 3px 1px rgba(0, 0, 0, 0.15);\n",
              "      filter: drop-shadow(0px 1px 2px rgba(0, 0, 0, 0.3));\n",
              "      fill: #FFFFFF;\n",
              "    }\n",
              "  </style>\n",
              "\n",
              "      <script>\n",
              "        const buttonEl =\n",
              "          document.querySelector('#df-26c8043f-0400-484a-be47-f4d3c5a951b9 button.colab-df-convert');\n",
              "        buttonEl.style.display =\n",
              "          google.colab.kernel.accessAllowed ? 'block' : 'none';\n",
              "\n",
              "        async function convertToInteractive(key) {\n",
              "          const element = document.querySelector('#df-26c8043f-0400-484a-be47-f4d3c5a951b9');\n",
              "          const dataTable =\n",
              "            await google.colab.kernel.invokeFunction('convertToInteractive',\n",
              "                                                     [key], {});\n",
              "          if (!dataTable) return;\n",
              "\n",
              "          const docLinkHtml = 'Like what you see? Visit the ' +\n",
              "            '<a target=\"_blank\" href=https://colab.research.google.com/notebooks/data_table.ipynb>data table notebook</a>'\n",
              "            + ' to learn more about interactive tables.';\n",
              "          element.innerHTML = '';\n",
              "          dataTable['output_type'] = 'display_data';\n",
              "          await google.colab.output.renderOutput(dataTable, element);\n",
              "          const docLink = document.createElement('div');\n",
              "          docLink.innerHTML = docLinkHtml;\n",
              "          element.appendChild(docLink);\n",
              "        }\n",
              "      </script>\n",
              "    </div>\n",
              "  </div>\n",
              "  "
            ]
          },
          "metadata": {},
          "execution_count": 14
        }
      ]
    },
    {
      "cell_type": "code",
      "source": [
        "import pandas as pd "
      ],
      "metadata": {
        "id": "IGU8UDLNrOyf"
      },
      "execution_count": null,
      "outputs": []
    },
    {
      "cell_type": "code",
      "source": [
        "# https://www.kaggle.com/karthickveerakumar/spam-filter\n",
        "df = pd.read_csv('/content/emails.csv')\n",
        "df"
      ],
      "metadata": {
        "colab": {
          "base_uri": "https://localhost:8080/",
          "height": 424
        },
        "id": "Os6wcdX7r88l",
        "outputId": "94d176e7-c8f9-4b98-a1dd-120aee8d0148"
      },
      "execution_count": null,
      "outputs": [
        {
          "output_type": "execute_result",
          "data": {
            "text/plain": [
              "                                                   text  spam\n",
              "0     Subject: naturally irresistible your corporate...     1\n",
              "1     Subject: the stock trading gunslinger  fanny i...     1\n",
              "2     Subject: unbelievable new homes made easy  im ...     1\n",
              "3     Subject: 4 color printing special  request add...     1\n",
              "4     Subject: do not have money , get software cds ...     1\n",
              "...                                                 ...   ...\n",
              "5723  Subject: re : research and development charges...     0\n",
              "5724  Subject: re : receipts from visit  jim ,  than...     0\n",
              "5725  Subject: re : enron case study update  wow ! a...     0\n",
              "5726  Subject: re : interest  david ,  please , call...     0\n",
              "5727  Subject: news : aurora 5 . 2 update  aurora ve...     0\n",
              "\n",
              "[5728 rows x 2 columns]"
            ],
            "text/html": [
              "\n",
              "  <div id=\"df-ee3c0488-7875-48c3-84e3-d700d454d6b2\">\n",
              "    <div class=\"colab-df-container\">\n",
              "      <div>\n",
              "<style scoped>\n",
              "    .dataframe tbody tr th:only-of-type {\n",
              "        vertical-align: middle;\n",
              "    }\n",
              "\n",
              "    .dataframe tbody tr th {\n",
              "        vertical-align: top;\n",
              "    }\n",
              "\n",
              "    .dataframe thead th {\n",
              "        text-align: right;\n",
              "    }\n",
              "</style>\n",
              "<table border=\"1\" class=\"dataframe\">\n",
              "  <thead>\n",
              "    <tr style=\"text-align: right;\">\n",
              "      <th></th>\n",
              "      <th>text</th>\n",
              "      <th>spam</th>\n",
              "    </tr>\n",
              "  </thead>\n",
              "  <tbody>\n",
              "    <tr>\n",
              "      <th>0</th>\n",
              "      <td>Subject: naturally irresistible your corporate...</td>\n",
              "      <td>1</td>\n",
              "    </tr>\n",
              "    <tr>\n",
              "      <th>1</th>\n",
              "      <td>Subject: the stock trading gunslinger  fanny i...</td>\n",
              "      <td>1</td>\n",
              "    </tr>\n",
              "    <tr>\n",
              "      <th>2</th>\n",
              "      <td>Subject: unbelievable new homes made easy  im ...</td>\n",
              "      <td>1</td>\n",
              "    </tr>\n",
              "    <tr>\n",
              "      <th>3</th>\n",
              "      <td>Subject: 4 color printing special  request add...</td>\n",
              "      <td>1</td>\n",
              "    </tr>\n",
              "    <tr>\n",
              "      <th>4</th>\n",
              "      <td>Subject: do not have money , get software cds ...</td>\n",
              "      <td>1</td>\n",
              "    </tr>\n",
              "    <tr>\n",
              "      <th>...</th>\n",
              "      <td>...</td>\n",
              "      <td>...</td>\n",
              "    </tr>\n",
              "    <tr>\n",
              "      <th>5723</th>\n",
              "      <td>Subject: re : research and development charges...</td>\n",
              "      <td>0</td>\n",
              "    </tr>\n",
              "    <tr>\n",
              "      <th>5724</th>\n",
              "      <td>Subject: re : receipts from visit  jim ,  than...</td>\n",
              "      <td>0</td>\n",
              "    </tr>\n",
              "    <tr>\n",
              "      <th>5725</th>\n",
              "      <td>Subject: re : enron case study update  wow ! a...</td>\n",
              "      <td>0</td>\n",
              "    </tr>\n",
              "    <tr>\n",
              "      <th>5726</th>\n",
              "      <td>Subject: re : interest  david ,  please , call...</td>\n",
              "      <td>0</td>\n",
              "    </tr>\n",
              "    <tr>\n",
              "      <th>5727</th>\n",
              "      <td>Subject: news : aurora 5 . 2 update  aurora ve...</td>\n",
              "      <td>0</td>\n",
              "    </tr>\n",
              "  </tbody>\n",
              "</table>\n",
              "<p>5728 rows × 2 columns</p>\n",
              "</div>\n",
              "      <button class=\"colab-df-convert\" onclick=\"convertToInteractive('df-ee3c0488-7875-48c3-84e3-d700d454d6b2')\"\n",
              "              title=\"Convert this dataframe to an interactive table.\"\n",
              "              style=\"display:none;\">\n",
              "        \n",
              "  <svg xmlns=\"http://www.w3.org/2000/svg\" height=\"24px\"viewBox=\"0 0 24 24\"\n",
              "       width=\"24px\">\n",
              "    <path d=\"M0 0h24v24H0V0z\" fill=\"none\"/>\n",
              "    <path d=\"M18.56 5.44l.94 2.06.94-2.06 2.06-.94-2.06-.94-.94-2.06-.94 2.06-2.06.94zm-11 1L8.5 8.5l.94-2.06 2.06-.94-2.06-.94L8.5 2.5l-.94 2.06-2.06.94zm10 10l.94 2.06.94-2.06 2.06-.94-2.06-.94-.94-2.06-.94 2.06-2.06.94z\"/><path d=\"M17.41 7.96l-1.37-1.37c-.4-.4-.92-.59-1.43-.59-.52 0-1.04.2-1.43.59L10.3 9.45l-7.72 7.72c-.78.78-.78 2.05 0 2.83L4 21.41c.39.39.9.59 1.41.59.51 0 1.02-.2 1.41-.59l7.78-7.78 2.81-2.81c.8-.78.8-2.07 0-2.86zM5.41 20L4 18.59l7.72-7.72 1.47 1.35L5.41 20z\"/>\n",
              "  </svg>\n",
              "      </button>\n",
              "      \n",
              "  <style>\n",
              "    .colab-df-container {\n",
              "      display:flex;\n",
              "      flex-wrap:wrap;\n",
              "      gap: 12px;\n",
              "    }\n",
              "\n",
              "    .colab-df-convert {\n",
              "      background-color: #E8F0FE;\n",
              "      border: none;\n",
              "      border-radius: 50%;\n",
              "      cursor: pointer;\n",
              "      display: none;\n",
              "      fill: #1967D2;\n",
              "      height: 32px;\n",
              "      padding: 0 0 0 0;\n",
              "      width: 32px;\n",
              "    }\n",
              "\n",
              "    .colab-df-convert:hover {\n",
              "      background-color: #E2EBFA;\n",
              "      box-shadow: 0px 1px 2px rgba(60, 64, 67, 0.3), 0px 1px 3px 1px rgba(60, 64, 67, 0.15);\n",
              "      fill: #174EA6;\n",
              "    }\n",
              "\n",
              "    [theme=dark] .colab-df-convert {\n",
              "      background-color: #3B4455;\n",
              "      fill: #D2E3FC;\n",
              "    }\n",
              "\n",
              "    [theme=dark] .colab-df-convert:hover {\n",
              "      background-color: #434B5C;\n",
              "      box-shadow: 0px 1px 3px 1px rgba(0, 0, 0, 0.15);\n",
              "      filter: drop-shadow(0px 1px 2px rgba(0, 0, 0, 0.3));\n",
              "      fill: #FFFFFF;\n",
              "    }\n",
              "  </style>\n",
              "\n",
              "      <script>\n",
              "        const buttonEl =\n",
              "          document.querySelector('#df-ee3c0488-7875-48c3-84e3-d700d454d6b2 button.colab-df-convert');\n",
              "        buttonEl.style.display =\n",
              "          google.colab.kernel.accessAllowed ? 'block' : 'none';\n",
              "\n",
              "        async function convertToInteractive(key) {\n",
              "          const element = document.querySelector('#df-ee3c0488-7875-48c3-84e3-d700d454d6b2');\n",
              "          const dataTable =\n",
              "            await google.colab.kernel.invokeFunction('convertToInteractive',\n",
              "                                                     [key], {});\n",
              "          if (!dataTable) return;\n",
              "\n",
              "          const docLinkHtml = 'Like what you see? Visit the ' +\n",
              "            '<a target=\"_blank\" href=https://colab.research.google.com/notebooks/data_table.ipynb>data table notebook</a>'\n",
              "            + ' to learn more about interactive tables.';\n",
              "          element.innerHTML = '';\n",
              "          dataTable['output_type'] = 'display_data';\n",
              "          await google.colab.output.renderOutput(dataTable, element);\n",
              "          const docLink = document.createElement('div');\n",
              "          docLink.innerHTML = docLinkHtml;\n",
              "          element.appendChild(docLink);\n",
              "        }\n",
              "      </script>\n",
              "    </div>\n",
              "  </div>\n",
              "  "
            ]
          },
          "metadata": {},
          "execution_count": 18
        }
      ]
    },
    {
      "cell_type": "code",
      "source": [
        "df.info()"
      ],
      "metadata": {
        "colab": {
          "base_uri": "https://localhost:8080/"
        },
        "id": "cuDzvXt1r_7w",
        "outputId": "e8772e09-cf20-46f0-82ff-1e832c7ef5bf"
      },
      "execution_count": null,
      "outputs": [
        {
          "output_type": "stream",
          "name": "stdout",
          "text": [
            "<class 'pandas.core.frame.DataFrame'>\n",
            "RangeIndex: 5728 entries, 0 to 5727\n",
            "Data columns (total 2 columns):\n",
            " #   Column  Non-Null Count  Dtype \n",
            "---  ------  --------------  ----- \n",
            " 0   text    5728 non-null   object\n",
            " 1   spam    5728 non-null   int64 \n",
            "dtypes: int64(1), object(1)\n",
            "memory usage: 89.6+ KB\n"
          ]
        }
      ]
    },
    {
      "cell_type": "code",
      "source": [
        "df = df.drop_duplicates(keep = 'last') #remove all duplicate emails from the dataframe\n",
        "df"
      ],
      "metadata": {
        "colab": {
          "base_uri": "https://localhost:8080/",
          "height": 424
        },
        "id": "uyndTgB3sLuE",
        "outputId": "6832173b-c1b6-4583-84f1-e018a55d2d73"
      },
      "execution_count": null,
      "outputs": [
        {
          "output_type": "execute_result",
          "data": {
            "text/plain": [
              "                                                   text  spam\n",
              "0     Subject: naturally irresistible your corporate...     1\n",
              "1     Subject: the stock trading gunslinger  fanny i...     1\n",
              "2     Subject: unbelievable new homes made easy  im ...     1\n",
              "3     Subject: 4 color printing special  request add...     1\n",
              "4     Subject: do not have money , get software cds ...     1\n",
              "...                                                 ...   ...\n",
              "5723  Subject: re : research and development charges...     0\n",
              "5724  Subject: re : receipts from visit  jim ,  than...     0\n",
              "5725  Subject: re : enron case study update  wow ! a...     0\n",
              "5726  Subject: re : interest  david ,  please , call...     0\n",
              "5727  Subject: news : aurora 5 . 2 update  aurora ve...     0\n",
              "\n",
              "[5695 rows x 2 columns]"
            ],
            "text/html": [
              "\n",
              "  <div id=\"df-7799966a-69a3-4bfc-b212-26917d41736e\">\n",
              "    <div class=\"colab-df-container\">\n",
              "      <div>\n",
              "<style scoped>\n",
              "    .dataframe tbody tr th:only-of-type {\n",
              "        vertical-align: middle;\n",
              "    }\n",
              "\n",
              "    .dataframe tbody tr th {\n",
              "        vertical-align: top;\n",
              "    }\n",
              "\n",
              "    .dataframe thead th {\n",
              "        text-align: right;\n",
              "    }\n",
              "</style>\n",
              "<table border=\"1\" class=\"dataframe\">\n",
              "  <thead>\n",
              "    <tr style=\"text-align: right;\">\n",
              "      <th></th>\n",
              "      <th>text</th>\n",
              "      <th>spam</th>\n",
              "    </tr>\n",
              "  </thead>\n",
              "  <tbody>\n",
              "    <tr>\n",
              "      <th>0</th>\n",
              "      <td>Subject: naturally irresistible your corporate...</td>\n",
              "      <td>1</td>\n",
              "    </tr>\n",
              "    <tr>\n",
              "      <th>1</th>\n",
              "      <td>Subject: the stock trading gunslinger  fanny i...</td>\n",
              "      <td>1</td>\n",
              "    </tr>\n",
              "    <tr>\n",
              "      <th>2</th>\n",
              "      <td>Subject: unbelievable new homes made easy  im ...</td>\n",
              "      <td>1</td>\n",
              "    </tr>\n",
              "    <tr>\n",
              "      <th>3</th>\n",
              "      <td>Subject: 4 color printing special  request add...</td>\n",
              "      <td>1</td>\n",
              "    </tr>\n",
              "    <tr>\n",
              "      <th>4</th>\n",
              "      <td>Subject: do not have money , get software cds ...</td>\n",
              "      <td>1</td>\n",
              "    </tr>\n",
              "    <tr>\n",
              "      <th>...</th>\n",
              "      <td>...</td>\n",
              "      <td>...</td>\n",
              "    </tr>\n",
              "    <tr>\n",
              "      <th>5723</th>\n",
              "      <td>Subject: re : research and development charges...</td>\n",
              "      <td>0</td>\n",
              "    </tr>\n",
              "    <tr>\n",
              "      <th>5724</th>\n",
              "      <td>Subject: re : receipts from visit  jim ,  than...</td>\n",
              "      <td>0</td>\n",
              "    </tr>\n",
              "    <tr>\n",
              "      <th>5725</th>\n",
              "      <td>Subject: re : enron case study update  wow ! a...</td>\n",
              "      <td>0</td>\n",
              "    </tr>\n",
              "    <tr>\n",
              "      <th>5726</th>\n",
              "      <td>Subject: re : interest  david ,  please , call...</td>\n",
              "      <td>0</td>\n",
              "    </tr>\n",
              "    <tr>\n",
              "      <th>5727</th>\n",
              "      <td>Subject: news : aurora 5 . 2 update  aurora ve...</td>\n",
              "      <td>0</td>\n",
              "    </tr>\n",
              "  </tbody>\n",
              "</table>\n",
              "<p>5695 rows × 2 columns</p>\n",
              "</div>\n",
              "      <button class=\"colab-df-convert\" onclick=\"convertToInteractive('df-7799966a-69a3-4bfc-b212-26917d41736e')\"\n",
              "              title=\"Convert this dataframe to an interactive table.\"\n",
              "              style=\"display:none;\">\n",
              "        \n",
              "  <svg xmlns=\"http://www.w3.org/2000/svg\" height=\"24px\"viewBox=\"0 0 24 24\"\n",
              "       width=\"24px\">\n",
              "    <path d=\"M0 0h24v24H0V0z\" fill=\"none\"/>\n",
              "    <path d=\"M18.56 5.44l.94 2.06.94-2.06 2.06-.94-2.06-.94-.94-2.06-.94 2.06-2.06.94zm-11 1L8.5 8.5l.94-2.06 2.06-.94-2.06-.94L8.5 2.5l-.94 2.06-2.06.94zm10 10l.94 2.06.94-2.06 2.06-.94-2.06-.94-.94-2.06-.94 2.06-2.06.94z\"/><path d=\"M17.41 7.96l-1.37-1.37c-.4-.4-.92-.59-1.43-.59-.52 0-1.04.2-1.43.59L10.3 9.45l-7.72 7.72c-.78.78-.78 2.05 0 2.83L4 21.41c.39.39.9.59 1.41.59.51 0 1.02-.2 1.41-.59l7.78-7.78 2.81-2.81c.8-.78.8-2.07 0-2.86zM5.41 20L4 18.59l7.72-7.72 1.47 1.35L5.41 20z\"/>\n",
              "  </svg>\n",
              "      </button>\n",
              "      \n",
              "  <style>\n",
              "    .colab-df-container {\n",
              "      display:flex;\n",
              "      flex-wrap:wrap;\n",
              "      gap: 12px;\n",
              "    }\n",
              "\n",
              "    .colab-df-convert {\n",
              "      background-color: #E8F0FE;\n",
              "      border: none;\n",
              "      border-radius: 50%;\n",
              "      cursor: pointer;\n",
              "      display: none;\n",
              "      fill: #1967D2;\n",
              "      height: 32px;\n",
              "      padding: 0 0 0 0;\n",
              "      width: 32px;\n",
              "    }\n",
              "\n",
              "    .colab-df-convert:hover {\n",
              "      background-color: #E2EBFA;\n",
              "      box-shadow: 0px 1px 2px rgba(60, 64, 67, 0.3), 0px 1px 3px 1px rgba(60, 64, 67, 0.15);\n",
              "      fill: #174EA6;\n",
              "    }\n",
              "\n",
              "    [theme=dark] .colab-df-convert {\n",
              "      background-color: #3B4455;\n",
              "      fill: #D2E3FC;\n",
              "    }\n",
              "\n",
              "    [theme=dark] .colab-df-convert:hover {\n",
              "      background-color: #434B5C;\n",
              "      box-shadow: 0px 1px 3px 1px rgba(0, 0, 0, 0.15);\n",
              "      filter: drop-shadow(0px 1px 2px rgba(0, 0, 0, 0.3));\n",
              "      fill: #FFFFFF;\n",
              "    }\n",
              "  </style>\n",
              "\n",
              "      <script>\n",
              "        const buttonEl =\n",
              "          document.querySelector('#df-7799966a-69a3-4bfc-b212-26917d41736e button.colab-df-convert');\n",
              "        buttonEl.style.display =\n",
              "          google.colab.kernel.accessAllowed ? 'block' : 'none';\n",
              "\n",
              "        async function convertToInteractive(key) {\n",
              "          const element = document.querySelector('#df-7799966a-69a3-4bfc-b212-26917d41736e');\n",
              "          const dataTable =\n",
              "            await google.colab.kernel.invokeFunction('convertToInteractive',\n",
              "                                                     [key], {});\n",
              "          if (!dataTable) return;\n",
              "\n",
              "          const docLinkHtml = 'Like what you see? Visit the ' +\n",
              "            '<a target=\"_blank\" href=https://colab.research.google.com/notebooks/data_table.ipynb>data table notebook</a>'\n",
              "            + ' to learn more about interactive tables.';\n",
              "          element.innerHTML = '';\n",
              "          dataTable['output_type'] = 'display_data';\n",
              "          await google.colab.output.renderOutput(dataTable, element);\n",
              "          const docLink = document.createElement('div');\n",
              "          docLink.innerHTML = docLinkHtml;\n",
              "          element.appendChild(docLink);\n",
              "        }\n",
              "      </script>\n",
              "    </div>\n",
              "  </div>\n",
              "  "
            ]
          },
          "metadata": {},
          "execution_count": 20
        }
      ]
    },
    {
      "cell_type": "code",
      "source": [
        "df['text'][4500]"
      ],
      "metadata": {
        "colab": {
          "base_uri": "https://localhost:8080/",
          "height": 191
        },
        "id": "-Agm3EKGtQ5d",
        "outputId": "49e55e4b-a7b6-42a1-ea39-14c4014b0dfe"
      },
      "execution_count": null,
      "outputs": [
        {
          "output_type": "execute_result",
          "data": {
            "text/plain": [
              "'Subject: the latest ( last ? )  . . sorry . . . i found something else :  p . 1 , footnote : the newspaper is the \" houston chronicle \" ( purchased the  \\' post \\' several years ago ) . . : - )  - - - - - forwarded by christie patrick / hou / ect on 02 / 07 / 2001 05 : 34 pm - - - - -  christie patrick  02 / 07 / 2001 05 : 27 pm  to : mark palmer / corp / enron @ enron  cc : vince j kaminski / hou / ect @ ect , j _ martin @ baylor . edu  subject : the latest ( last ? )  . . as columbo would say . . \" . . just one more thing \"  p . 20 last bullet : enron focusing on recruiting and retaining talent  thanks again ! christie .  - - - - - forwarded by christie patrick / hou / ect on 02 / 07 / 2001 05 : 24 pm - - - - -  christie patrick  02 / 07 / 2001 05 : 23 pm  to : mark palmer / corp / enron @ enron  cc : vince j kaminski / hou / ect @ ect , j _ martin @ baylor . edu  subject : the latest ( last ? )  mark !  please review the attached article and forward your comments / authorization  for its use to john martin at baylor , copying me and vince .  john and vince ,  i have a few simple comments :  1 . please use \" enron corp . \" [ rather than \" enron corporation \" ]  2 . page 3 : as of yesterday , fortune magazine named enron \" most innovative \"  for the sixth year in a row  3 . page 5 : 2 nd paragraph : regarding the \" gas bank \" concept - - i believe when  jeff first introduced it , it fell flat . i think john pick \\' s that up ( and  enron \\' s subsequent recovery of a version of the concept on p . 6 ) , but it \\' s  probably accurate to mention that at first , it didn \\' t go over .  4 . page 13 : re : cindy olson \\' s comment on a possible 5 x difference between  a \" satisfactory \" and \" superior \" vp - - the difference referred to is probably  the \" bonus \" rather than \" compensation \" ( which , to me , is generally means  base salary ) ; also , it varies for each review period , as comparative  performance might vary ; further , we might want to run that quote by cindy  just to make sure she \\' s ok with it \\' s publication ( she might have no problem  with it whatsoever , but i know for other articles , she \\' s been more reluctant  to provide that kind of statistic ) .  5 . page 17 ( after annual report quote ) : i suggest changing \" enron \\' s  wholesale business . . . provides \" to \" . . . businesses . . provide \" ; also , rather  than \" enron wholesale \" we might want to define this by the term enron uses :  \" enron wholesale services \"  6 . page 18 : 2 nd paragraph : the tense switching from past to present is  technically correct if read carefully , but seems awkward when reading it  7 . page 19 : effective february , jeff skilling is \" ceo \" .  . . . that \\' s my 2 - cents worth ! ! i think the article is great . . . even  interesting ( ha ! ) . . . even to non - mba \\' s like me ! !  thanks !  - - christie .  - - - - - forwarded by christie patrick / hou / ect on 02 / 07 / 2001 04 : 41 pm - - - - -  vince j kaminski  02 / 02 / 2001 08 : 45 am  to : mark s palmer / na / enron @ enron  cc : vince j kaminski / hou / ect @ ect , christie patrick / hou / ect @ ect  subject : the latest ( last ? )  mark ,  i am sending you the final ( ? ) draft of the paper by john martin  on enron \\' s transformation . john martin is a prof from baylor who visited us  a few weeks ago .  can you take a look at the paper and bless it . i haven \\' t read this last  version  of the paper yet and i will go through it on weekend .  vince  - - - - - - - - - - - - - - - - - - - - - - forwarded by vince j kaminski / hou / ect on 02 / 02 / 2001  08 : 44 am - - - - - - - - - - - - - - - - - - - - - - - - - - -  \" john d . martin \" on 02 / 01 / 2001 04 : 15 : 36 pm  to : vkamins @ enron . com  cc :  subject : the latest ( last ? )  vince ,  attached is my latest attempt to wrap everything together . our timetable  is very short as we need an \" approved by enron \" version of the paper to don  by next wednesday . don has already made editorial changes for us and may  make some additional \" writing style \" changes but he doesn \\' t change the  content .  i \\' ll give you a call later today to alert you to the e - mail .  take care ,  john  p . s . i had a nice conversation with steve . sounds like he \\' s landed a  pretty good contract with wiley .  - enron _ paper _ 2 _ 1 _ 01 . doc  john d . martin  carr p . collins chair in finance  finance department  baylor university  po box 98004  waco , tx 76798  254 - 710 - 4473 ( office )  254 - 710 - 1092 ( fax )  j _ martin @ baylor . edu  web : http : / / hsb . baylor . edu / html / martinj / home . html'"
            ],
            "application/vnd.google.colaboratory.intrinsic+json": {
              "type": "string"
            }
          },
          "metadata": {},
          "execution_count": 27
        }
      ]
    },
    {
      "cell_type": "code",
      "source": [
        "df['spam'][4500]"
      ],
      "metadata": {
        "colab": {
          "base_uri": "https://localhost:8080/"
        },
        "id": "juhiZX_Qtq77",
        "outputId": "fcf237fa-ab52-48c5-aaf3-b21a8a6b3de0"
      },
      "execution_count": null,
      "outputs": [
        {
          "output_type": "execute_result",
          "data": {
            "text/plain": [
              "0"
            ]
          },
          "metadata": {},
          "execution_count": 28
        }
      ]
    },
    {
      "cell_type": "code",
      "source": [
        "df['text'][2344]"
      ],
      "metadata": {
        "colab": {
          "base_uri": "https://localhost:8080/",
          "height": 191
        },
        "id": "oaiyVEyAtuqy",
        "outputId": "49e9d368-7543-437a-b1a5-e76724ebf5c9"
      },
      "execution_count": null,
      "outputs": [
        {
          "output_type": "execute_result",
          "data": {
            "text/plain": [
              "'Subject: alliance info alert : ferc report on western markets  at its special meeting today , ferc released the results of its eagerly  awaited probe into california \\' s summer power crisis , concluding that under  certain circumstances , california ratepayers were subjected to unjust and  unreasonable power rates due to california \\' s \" seriously flawed \" market  structure and rules in conjunction with tight demand and supply conditions  throughout the west .  the ferc staff report on western markets and the causes of the summer 2000  price abormalities , entitled , part i of staff report on u . s . bulk power  markets , is available at the following website :  in response , ferc issued an order proposing a series of sweeping structural  changes to the california iso and px to help remedy the pricing problems , and  solicited public comment by november 22 . a technical conference has also  been scheduled for november 9 , to discuss the proposed solutions and other  remedies that might be suggested ( details tba ) . while all four commissioners  supported the order , the order stretched the commission . chairman hoecker  and comm . breathitt expressed strong endorsements , while comms . hebert and  massey concurred , citing areas where they felt the commission had either  \" over - reached \" or not gone far enough , as discussed below . a final order is  expected to be issued by year \\' s end .  at the same time , the commission warned california consumers of their  continued risk of paying higher prices unless policy makers there resolve  state issues , such as : ( 1 ) immediately implementing the availability of day  ahead markets for power purchases ; ( 2 ) development of demand responses ; ( 3 )  siting of generation and transmission ; and ( 4 ) assurance of sufficient  reserve requirements .  highlights of proposed california structural remedy  in its order , ferc proposed a series of market overhauls , including :  ( 1 ) eliminating the state \\' s mandatory requirement that the state \\' s  investor - owned utilities buy and sell electricity through the px , and allowing  these utilities to purchase electricity through forward contracts and other  alternative mechanisms to manage supply risks .  ( 2 ) requiring market participants to schedule 95 percent of their  transactions in the day - ahead market and instituting a penalty charge for  under - scheduling ( in excess of five percent of hourly load requirements ) , in  order to discourage over - reliance on the real - time spot market .  ( 3 ) establishing independent , non - stakeholder governing boards for the iso  and px .  ( 4 ) modifying the current single price auction system by ( a ) imposing a  temporary $ 150 / mwh \" soft cap \" that prohibits supply bids in excess of $ 150  from setting the market - clearing price for all bidders ; ( b ) requiring sellers  bidding above $ 150 / mwh to report their bids to ferc on a confidential , weekly  basis and provide certain cost support ; and ( c ) requiring the iso and px to  report monthly information on such bids . the commission \\' s price mitigation  measures would remain in effect through december 31 , 2002 .  ( 5 ) declining to order retroactive refunds for the state \\' s ratepayers and  utilities , citing insufficient authority to do so , but subjecting sellers to  potential refund liability for transactions from october 2 , 2000 until  december 21 , 2002 , but no lower than their marginal or opportunity costs , if  ferc finds non - competitive behavior .  ( 6 ) encouraging accelerated state siting approval and introduction of demand  response management programs .  separately , the draft order rejected the iso \\' s request for an extension of  its current purchase price cap authority , and the px \\' s request for price  capping authority .  commissioner responses  comm . herbert reluctantly concurred , noting that his decision may change when  a final order is considered based on comments filed or testimony offered at  the november 9 meeting . he stressed that he would have preferred that the  order address four areas : ( 1 ) eliminate all price controls in california  markets ; ( 2 ) abolish the single price auction entirely ; ( 3 ) terminate the  \" buy and sell \" mandate in the px ; and ( 4 ) direct the iso to address a long  list of cited problems in its january 2001 rto filing , rather than having the  commission prescribe specific remedies .  hebert stated that while he was opposed in principle to the \" soft cap \"  concept , if one had to be adopted , then the soft cap should increase  incrementally increase over time at specific pre - announced dates . he  believes that this would serve to both encourage greater investment in  facilities and additional forward contracting as well as provide an incentive  for california regulators to address market design and other flaws . also , he  would not have disbanded the stakeholder governing boards at this time , but  allow the iso and px to address this issue in their january 2001 rto  filings . in addition , he would not dictate risk management methods ,  preferring instead that market participants determine appropriate actions on  their own . finally , he advised californians not to be so environmentally  focused that they do not realize their tremendous need for generation  capacity .  comm . breathitt stated her approval of the order while warning that ferc  cannot allow the events of this past summer to reverse or slow the progress  towards open and competitive markets . she noted that it was the commission \\' s  job to guide the market to self - correct and not to conduct \" command and  control . \" she also commended the managers of the iso and px , saying that  they have performed admirably . however , she noted she is awaiting comments  on the single price auction remedy and its accompanying confidential  reporting requirements .  comm . massey concurred , but emphasized that he advocates a more aggressive  approach . he feels that the congress has \" put its thumb on the scale \" in the  federal power act to protect consumers . stating that prices will continue to  be unreasonable in the future , he believes that this order moves in the right  direction , by proposing solutions to identified problems such as an over  reliance on the spot market , lack of demand response , the need to  reconstitute governance of the iso and px and the elimination of the buy / sell  mandate . comm . massey specifically called for comments regarding whether the  $ 150 / mwh soft cap went far enough , whether ferc has the legal authority to  issue refunds and to determine whether there should be a requirement for a  certain percentage of forward contracting to hedge against the spot market  price volatility .  finally , chairman hoecker stated his strong support of the order , but noted  that this is \" no time to pull punches . \" he emphasized that the commission  needed frank comments from the industry . he echoed comm . breathitt \\' s warning  that competition is at risk and that they needed to get the markets back on  track . noting that the commission lacked authority to order refunds , he  stated that the responsibility rests with congress . addressing  jurisdictional issues , he stated that siting problems encountered at the  state level are slowing the \" meandering transition \" to competition . he feels  that the state of california and ferc need to work together to resolve these  problems and that ferc is not attempting to usurp power . rather , california  is part of a broader interstate market and is dependent on the western region  for reliable energy , thus placing the burden on federal action to make things  work , hoecker maintained . the chairman also said that the commission will  fully investigate and act upon complaints of market power abuse or further  evidence provided by staff \\' s ongoing investigation .  if you have any questions or comments , please call jack cashin at  202 / 508 - 5499 .'"
            ],
            "application/vnd.google.colaboratory.intrinsic+json": {
              "type": "string"
            }
          },
          "metadata": {},
          "execution_count": 29
        }
      ]
    },
    {
      "cell_type": "code",
      "source": [
        "df['spam'][2344]"
      ],
      "metadata": {
        "colab": {
          "base_uri": "https://localhost:8080/"
        },
        "id": "HUJN4uibtzN7",
        "outputId": "a8ad6549-aaa6-4bdc-a4e7-2249d20fd477"
      },
      "execution_count": null,
      "outputs": [
        {
          "output_type": "execute_result",
          "data": {
            "text/plain": [
              "0"
            ]
          },
          "metadata": {},
          "execution_count": 30
        }
      ]
    },
    {
      "cell_type": "code",
      "source": [
        "df['text'][34]"
      ],
      "metadata": {
        "colab": {
          "base_uri": "https://localhost:8080/",
          "height": 365
        },
        "id": "-TbtCSR0t14D",
        "outputId": "db7aa87d-3748-4467-ea7f-2ecb867327de"
      },
      "execution_count": null,
      "outputs": [
        {
          "output_type": "execute_result",
          "data": {
            "text/plain": [
              "'Subject: ms 2003 software titles available for download  opt - in email special offer unsubscribe me search software top 10 new titles on sale now ! 1 office pro 20032 adobe photoshop 9 . 03 windows xp pro 4 adobe acrobat 7 pro 5 flash mx 20046 corel draw 127 norton antivirus 20058 windows 2003 server 9 alias maya 6 wavefrtl 0 adobe illustrator 11 see more by this manufacturer microsoft symantec adobe customers also bought these other items . . . microsoft office professional edition * 2003 * microsoftchoose : view other titles list price : $ 499 . 00 price : $ 69 . 99 you save : $ 429 . 01 ( 86 % ) availability : available for instant download ! coupon code : 3 ff 9 kuc sales rank : # 1 system requirements | other versions date coupon expires : august 31 st , 2005 average customer review : based on 15177 reviews . write a review . adobe photoshop cs 2 v 9 . 0 adobechoose : view other titles list price : $ 599 . 00 price : $ 69 . 99 you save : $ 529 . 01 ( 90 % ) availability : available for instant download ! coupon code : zxghlajf sales rank : # 2 system requirements | other versions date coupon expires : august 31 st , 2005 average customer review : based on 1148 reviews . write a review . microsoft windows xp professional or longhorn edition microsoftchoose : view other titles list price : $ 279 . 00 price : $ 49 . 99 you save : $ 229 . 01 ( 85 % ) availability : available for instant download ! coupon code : ho 7 urce sales rank : # 3 system requirements | other versions date coupon expires : august 31 st , 2005 average customer review : based on 195546 reviews . write a review . adobe acrobat professional v 7 . 0 adobechoose : view other titles list price : $ 499 . 00 price : $ 69 . 99 you save : $ 429 . 01 ( 85 % ) availability : available for instant download ! coupon code : pl 92 bohsg sales rank : # 4 system requirements | other versions date coupon expires : august 31 st , 2005 average customer review : based on 156489 reviews . write a review .'"
            ],
            "application/vnd.google.colaboratory.intrinsic+json": {
              "type": "string"
            }
          },
          "metadata": {},
          "execution_count": 31
        }
      ]
    },
    {
      "cell_type": "code",
      "source": [
        "df['spam'][34]"
      ],
      "metadata": {
        "colab": {
          "base_uri": "https://localhost:8080/"
        },
        "id": "u8WssWQzt4A5",
        "outputId": "27a5f3de-83db-42ce-aaf5-0657a6c19816"
      },
      "execution_count": null,
      "outputs": [
        {
          "output_type": "execute_result",
          "data": {
            "text/plain": [
              "1"
            ]
          },
          "metadata": {},
          "execution_count": 32
        }
      ]
    },
    {
      "cell_type": "code",
      "source": [
        "df['spam'].value_counts()"
      ],
      "metadata": {
        "colab": {
          "base_uri": "https://localhost:8080/"
        },
        "id": "EvC5Ulswt60D",
        "outputId": "22031720-7de4-439b-d4b0-5e6d43b88340"
      },
      "execution_count": null,
      "outputs": [
        {
          "output_type": "execute_result",
          "data": {
            "text/plain": [
              "0    4327\n",
              "1    1368\n",
              "Name: spam, dtype: int64"
            ]
          },
          "metadata": {},
          "execution_count": 33
        }
      ]
    },
    {
      "cell_type": "code",
      "source": [
        "df['spam'].value_counts().plot(kind='bar')"
      ],
      "metadata": {
        "colab": {
          "base_uri": "https://localhost:8080/",
          "height": 280
        },
        "id": "1pd_WHkguFc6",
        "outputId": "2eba727a-075d-415a-848c-4760e14a9142"
      },
      "execution_count": null,
      "outputs": [
        {
          "output_type": "execute_result",
          "data": {
            "text/plain": [
              "<matplotlib.axes._subplots.AxesSubplot at 0x7f1093942a50>"
            ]
          },
          "metadata": {},
          "execution_count": 34
        },
        {
          "output_type": "display_data",
          "data": {
            "text/plain": [
              "<Figure size 432x288 with 1 Axes>"
            ],
            "image/png": "[encoded data removed]"
          },
          "metadata": {
            "needs_background": "light"
          }
        }
      ]
    },
    {
      "cell_type": "code",
      "source": [
        "x = df['text'].values\n",
        "y = df['spam'].values"
      ],
      "metadata": {
        "id": "btcVkSuauKE8"
      },
      "execution_count": null,
      "outputs": []
    },
    {
      "cell_type": "code",
      "source": [
        "df.shape"
      ],
      "metadata": {
        "colab": {
          "base_uri": "https://localhost:8080/"
        },
        "id": "yUfQ6Nk3ugvp",
        "outputId": "70f6a2cc-afd7-4e9c-aac9-1d4ea7edc0d8"
      },
      "execution_count": null,
      "outputs": [
        {
          "output_type": "execute_result",
          "data": {
            "text/plain": [
              "(5695, 2)"
            ]
          },
          "metadata": {},
          "execution_count": 39
        }
      ]
    },
    {
      "cell_type": "code",
      "source": [
        "from sklearn.model_selection import train_test_split \n",
        "x_train,x_test,y_train,y_test = train_test_split(x,y,random_state = 0)"
      ],
      "metadata": {
        "id": "V1sQkbrBuSYU"
      },
      "execution_count": null,
      "outputs": []
    },
    {
      "cell_type": "code",
      "source": [
        "x_train.shape"
      ],
      "metadata": {
        "colab": {
          "base_uri": "https://localhost:8080/"
        },
        "id": "v90w3OrEuZ4G",
        "outputId": "88ebd1a3-9e6d-45d4-a2a3-4944f43ad9b2"
      },
      "execution_count": null,
      "outputs": [
        {
          "output_type": "execute_result",
          "data": {
            "text/plain": [
              "(4271,)"
            ]
          },
          "metadata": {},
          "execution_count": 37
        }
      ]
    },
    {
      "cell_type": "code",
      "source": [
        "x_test.shape"
      ],
      "metadata": {
        "colab": {
          "base_uri": "https://localhost:8080/"
        },
        "id": "jR3TqRYAubQG",
        "outputId": "18381896-b97c-4e41-9442-022e5942ba67"
      },
      "execution_count": null,
      "outputs": [
        {
          "output_type": "execute_result",
          "data": {
            "text/plain": [
              "(1424,)"
            ]
          },
          "metadata": {},
          "execution_count": 38
        }
      ]
    },
    {
      "cell_type": "code",
      "source": [
        "vect = CountVectorizer(stop_words='english')\n",
        "x_train_vect = vect.fit_transform(x_train)\n",
        "x_test_vect = vect.transform(x_test) "
      ],
      "metadata": {
        "id": "We64wAifucVM"
      },
      "execution_count": null,
      "outputs": []
    },
    {
      "cell_type": "code",
      "source": [
        "x_train_vect.toarray() #al the text is converted to numerical values"
      ],
      "metadata": {
        "colab": {
          "base_uri": "https://localhost:8080/"
        },
        "id": "WPvJob0yv7Ch",
        "outputId": "4fdafe04-b005-4a65-b6af-e4f872d18c38"
      },
      "execution_count": null,
      "outputs": [
        {
          "output_type": "execute_result",
          "data": {
            "text/plain": [
              "array([[3, 0, 0, ..., 0, 0, 0],\n",
              "       [0, 0, 0, ..., 0, 0, 0],\n",
              "       [0, 0, 0, ..., 0, 0, 0],\n",
              "       ...,\n",
              "       [0, 0, 0, ..., 0, 0, 0],\n",
              "       [0, 0, 0, ..., 0, 0, 0],\n",
              "       [0, 0, 0, ..., 0, 0, 0]])"
            ]
          },
          "metadata": {},
          "execution_count": 47
        }
      ]
    },
    {
      "cell_type": "code",
      "source": [
        "#METHOD 1\n",
        "from sklearn.svm import SVC #from support vector machines import support vector classifier\n",
        "model = SVC()\n",
        "model.fit(x_train_vect,y_train)"
      ],
      "metadata": {
        "colab": {
          "base_uri": "https://localhost:8080/"
        },
        "id": "mxJbjGyou83P",
        "outputId": "dfc29f67-dc3e-466b-96e3-ceffc37c4222"
      },
      "execution_count": null,
      "outputs": [
        {
          "output_type": "execute_result",
          "data": {
            "text/plain": [
              "SVC()"
            ]
          },
          "metadata": {},
          "execution_count": 45
        }
      ]
    },
    {
      "cell_type": "code",
      "source": [
        "y_pred = model.predict(x_test_vect)\n",
        "y_pred"
      ],
      "metadata": {
        "colab": {
          "base_uri": "https://localhost:8080/"
        },
        "id": "WPq0d1JVvQlW",
        "outputId": "3e4163c9-657a-4fa0-e624-7dab22c794e9"
      },
      "execution_count": null,
      "outputs": [
        {
          "output_type": "execute_result",
          "data": {
            "text/plain": [
              "array([1, 0, 0, ..., 0, 0, 0])"
            ]
          },
          "metadata": {},
          "execution_count": 42
        }
      ]
    },
    {
      "cell_type": "code",
      "source": [
        "from sklearn.metrics import accuracy_score \n",
        "accuracy_score(y_pred,y_test)"
      ],
      "metadata": {
        "colab": {
          "base_uri": "https://localhost:8080/"
        },
        "id": "ICE5AW4-vdqP",
        "outputId": "b8b53807-090a-4a08-b72d-0eab48924a9f"
      },
      "execution_count": null,
      "outputs": [
        {
          "output_type": "execute_result",
          "data": {
            "text/plain": [
              "0.9740168539325843"
            ]
          },
          "metadata": {},
          "execution_count": 43
        }
      ]
    },
    {
      "cell_type": "code",
      "source": [
        "# METHOD 2 - using pipelines \n",
        "# pipeline is used to combine multiple estimators/ combine two processes together\n",
        "\n",
        "# SVC + countvectorizer \n",
        "# if we use the pipeline we need not transform the values manually, pipelines take care of this "
      ],
      "metadata": {
        "id": "EkYMfjMQvrev"
      },
      "execution_count": null,
      "outputs": []
    },
    {
      "cell_type": "code",
      "source": [
        "from sklearn.pipeline import make_pipeline \n",
        "model2 = make_pipeline(CountVectorizer(),SVC())\n",
        "\n",
        "model2.fit(x_train,y_train)\n",
        "y_pred2 = model2.predict(x_test)\n",
        "y_pred2"
      ],
      "metadata": {
        "colab": {
          "base_uri": "https://localhost:8080/"
        },
        "id": "tLs6ai1rwZ9f",
        "outputId": "e1f3a924-f314-4fd9-db71-888d988218c9"
      },
      "execution_count": null,
      "outputs": [
        {
          "output_type": "execute_result",
          "data": {
            "text/plain": [
              "array([1, 0, 0, ..., 0, 0, 0])"
            ]
          },
          "metadata": {},
          "execution_count": 49
        }
      ]
    },
    {
      "cell_type": "code",
      "source": [
        "accuracy_score(y_pred2,y_test)"
      ],
      "metadata": {
        "colab": {
          "base_uri": "https://localhost:8080/"
        },
        "id": "jW4wNEKWw3x1",
        "outputId": "553cb4d0-0dd5-48ef-bed0-54573b75a596"
      },
      "execution_count": null,
      "outputs": [
        {
          "output_type": "execute_result",
          "data": {
            "text/plain": [
              "0.9515449438202247"
            ]
          },
          "metadata": {},
          "execution_count": 50
        }
      ]
    },
    {
      "cell_type": "code",
      "source": [
        "#USING NAIVE BAYES "
      ],
      "metadata": {
        "id": "7HlCqtauxKJK"
      },
      "execution_count": null,
      "outputs": []
    },
    {
      "cell_type": "code",
      "source": [
        "# Method 3"
      ],
      "metadata": {
        "id": "ti_1XI_MxXHj"
      },
      "execution_count": null,
      "outputs": []
    },
    {
      "cell_type": "code",
      "source": [
        "from sklearn.naive_bayes import MultinomialNB\n",
        "model3 = MultinomialNB()"
      ],
      "metadata": {
        "id": "UaQmCsy92gdS"
      },
      "execution_count": null,
      "outputs": []
    },
    {
      "cell_type": "code",
      "source": [
        "model3.fit(x_train_vect,y_train)"
      ],
      "metadata": {
        "colab": {
          "base_uri": "https://localhost:8080/"
        },
        "id": "UHz-SKJC2kur",
        "outputId": "02a1bef3-e9a1-409a-9ea9-063f4aa70892"
      },
      "execution_count": null,
      "outputs": [
        {
          "output_type": "execute_result",
          "data": {
            "text/plain": [
              "MultinomialNB()"
            ]
          },
          "metadata": {},
          "execution_count": 54
        }
      ]
    },
    {
      "cell_type": "code",
      "source": [
        "y_pred3 = model3.predict(x_test_vect)\n",
        "y_pred3"
      ],
      "metadata": {
        "colab": {
          "base_uri": "https://localhost:8080/"
        },
        "id": "26B8Dpxa2p3J",
        "outputId": "215801b1-6e9c-4973-e838-b5a49a73fc84"
      },
      "execution_count": null,
      "outputs": [
        {
          "output_type": "execute_result",
          "data": {
            "text/plain": [
              "array([1, 0, 0, ..., 0, 0, 0])"
            ]
          },
          "metadata": {},
          "execution_count": 55
        }
      ]
    },
    {
      "cell_type": "code",
      "source": [
        "accuracy_score(y_pred3,y_test)"
      ],
      "metadata": {
        "colab": {
          "base_uri": "https://localhost:8080/"
        },
        "id": "Jf2xRgLR2t8Q",
        "outputId": "a8425fa4-6491-450a-cff3-814519ed22ae"
      },
      "execution_count": null,
      "outputs": [
        {
          "output_type": "execute_result",
          "data": {
            "text/plain": [
              "0.9901685393258427"
            ]
          },
          "metadata": {},
          "execution_count": 56
        }
      ]
    },
    {
      "cell_type": "code",
      "source": [
        "# accuracy score - 0.9740  (SVC)\n",
        "# accuracy score - 0.9515  (SVC pipeline)\n",
        "# accuracy score - 0.9901685393258427 (MultinomialNB)\n",
        "# accuracy score - 0.9901685393258427  (MultinomialNB pipeline) "
      ],
      "metadata": {
        "id": "MmWBpcONvlyk"
      },
      "execution_count": null,
      "outputs": []
    },
    {
      "cell_type": "code",
      "source": [
        "#METHOD 4 NB + Countvectorizer pipeline\n",
        "from sklearn.pipeline import make_pipeline \n",
        "model4 = make_pipeline(CountVectorizer(),MultinomialNB())\n",
        "\n",
        "model4.fit(x_train,y_train)\n",
        "y_pred4 = model4.predict(x_test)\n",
        "y_pred4"
      ],
      "metadata": {
        "colab": {
          "base_uri": "https://localhost:8080/"
        },
        "id": "x0K92aB82v-b",
        "outputId": "78f881ed-f5e4-4481-e5eb-2c64925e847e"
      },
      "execution_count": null,
      "outputs": [
        {
          "output_type": "execute_result",
          "data": {
            "text/plain": [
              "array([1, 0, 0, ..., 0, 0, 0])"
            ]
          },
          "metadata": {},
          "execution_count": 57
        }
      ]
    },
    {
      "cell_type": "code",
      "source": [
        "accuracy_score(y_pred4,y_test)"
      ],
      "metadata": {
        "colab": {
          "base_uri": "https://localhost:8080/"
        },
        "id": "pnanZB_O3Kru",
        "outputId": "7e0aa495-42d4-47f9-a5ba-2f590e8780a7"
      },
      "execution_count": null,
      "outputs": [
        {
          "output_type": "execute_result",
          "data": {
            "text/plain": [
              "0.9901685393258427"
            ]
          },
          "metadata": {},
          "execution_count": 58
        }
      ]
    },
    {
      "cell_type": "code",
      "source": [
        "# explore tfidf vectorizer (more advanced feature extraction technique than countvectorizer)"
      ],
      "metadata": {
        "id": "Otg1OxIx3OAt"
      },
      "execution_count": null,
      "outputs": []
    },
    {
      "cell_type": "code",
      "source": [
        "# WEBAPP using this model \n",
        "# Entered text is spam or not "
      ],
      "metadata": {
        "id": "i8KRaVnE3wh0"
      },
      "execution_count": null,
      "outputs": []
    },
    {
      "cell_type": "code",
      "source": [
        "import joblib \n",
        "joblib.dump(model4,'spam-email')"
      ],
      "metadata": {
        "colab": {
          "base_uri": "https://localhost:8080/"
        },
        "id": "hUbcqr8133co",
        "outputId": "95f8efd8-8e3b-48fb-87b7-cdd6dacb64b6"
      },
      "execution_count": null,
      "outputs": [
        {
          "output_type": "execute_result",
          "data": {
            "text/plain": [
              "['spam-email']"
            ]
          },
          "metadata": {},
          "execution_count": 60
        }
      ]
    },
    {
      "cell_type": "code",
      "source": [
        "import joblib\n",
        "reload_model = joblib.load('spam-email')"
      ],
      "metadata": {
        "id": "alQ8a1Mc4EMV"
      },
      "execution_count": null,
      "outputs": []
    },
    {
      "cell_type": "code",
      "source": [
        "reload_model.predict(['hello'])"
      ],
      "metadata": {
        "colab": {
          "base_uri": "https://localhost:8080/"
        },
        "id": "VGWC1D-q4JWv",
        "outputId": "eb9526d7-4e3c-4ad9-9a76-9dcf30911ec3"
      },
      "execution_count": null,
      "outputs": [
        {
          "output_type": "execute_result",
          "data": {
            "text/plain": [
              "array([0])"
            ]
          },
          "metadata": {},
          "execution_count": 63
        }
      ]
    },
    {
      "cell_type": "code",
      "source": [
        "reload_model.predict(['free tickets'])"
      ],
      "metadata": {
        "colab": {
          "base_uri": "https://localhost:8080/"
        },
        "id": "ZF_K9N_j4MnL",
        "outputId": "25613583-f241-4c33-9367-1eac626d772c"
      },
      "execution_count": null,
      "outputs": [
        {
          "output_type": "execute_result",
          "data": {
            "text/plain": [
              "array([1])"
            ]
          },
          "metadata": {},
          "execution_count": 64
        }
      ]
    },
    {
      "cell_type": "code",
      "source": [
        "#STREAMLIT (used to create the webapp)\n",
        "!pip install streamlit --quiet "
      ],
      "metadata": {
        "colab": {
          "base_uri": "https://localhost:8080/"
        },
        "id": "3dmeQzY54SM5",
        "outputId": "af1a9b3d-0c20-45f0-fc84-a9e23d3cdf6c"
      },
      "execution_count": null,
      "outputs": [
        {
          "output_type": "stream",
          "name": "stdout",
          "text": [
            "\u001b[K     |████████████████████████████████| 10.1 MB 7.7 MB/s \n",
            "\u001b[K     |████████████████████████████████| 111 kB 9.4 MB/s \n",
            "\u001b[K     |████████████████████████████████| 164 kB 44.4 MB/s \n",
            "\u001b[K     |████████████████████████████████| 4.3 MB 41.7 MB/s \n",
            "\u001b[K     |████████████████████████████████| 76 kB 4.6 MB/s \n",
            "\u001b[K     |████████████████████████████████| 181 kB 67.5 MB/s \n",
            "\u001b[K     |████████████████████████████████| 63 kB 1.6 MB/s \n",
            "\u001b[K     |████████████████████████████████| 130 kB 56.6 MB/s \n",
            "\u001b[K     |████████████████████████████████| 793 kB 43.7 MB/s \n",
            "\u001b[K     |████████████████████████████████| 380 kB 55.3 MB/s \n",
            "\u001b[?25h  Building wheel for blinker (setup.py) ... \u001b[?25l\u001b[?25hdone\n",
            "\u001b[31mERROR: pip's dependency resolver does not currently take into account all the packages that are installed. This behaviour is the source of the following dependency conflicts.\n",
            "jupyter-console 5.2.0 requires prompt-toolkit<2.0.0,>=1.0.0, but you have prompt-toolkit 3.0.28 which is incompatible.\n",
            "google-colab 1.0.0 requires ipykernel~=4.10, but you have ipykernel 6.9.2 which is incompatible.\n",
            "google-colab 1.0.0 requires ipython~=5.5.0, but you have ipython 7.32.0 which is incompatible.\u001b[0m\n"
          ]
        }
      ]
    },
    {
      "cell_type": "code",
      "source": [
        "%%writefile app.py \n",
        "import streamlit as st \n",
        "import joblib \n",
        "st.title(\"SPAM TEXT/EMAIL CLASSIFICATION\")\n",
        "reload_model = joblib.load('spam-email')\n",
        "\n",
        "ip = st.text_input(\"Enter the email/text :\")\n",
        "op = reload_model.predict([ip])\n",
        "\n",
        "# review = ['Positive','Negative'] #you can add this line extra to print the text as the output\n",
        "if st.button('PREDICT'):\n",
        "  st.title(op[0])"
      ],
      "metadata": {
        "colab": {
          "base_uri": "https://localhost:8080/"
        },
        "id": "BO0L574T4gNR",
        "outputId": "c830f49f-f2ad-4d2b-f1ab-0bfe80b284dd"
      },
      "execution_count": null,
      "outputs": [
        {
          "output_type": "stream",
          "name": "stdout",
          "text": [
            "Writing app.py\n"
          ]
        }
      ]
    },
    {
      "cell_type": "code",
      "source": [
        "#to run this streamlit web application \n",
        "!streamlit run app.py & npx localtunnel --port 8501\n",
        "# external link using port forwarding service of localtunnel is used"
      ],
      "metadata": {
        "colab": {
          "base_uri": "https://localhost:8080/"
        },
        "id": "qoTRnRT85KKd",
        "outputId": "81e41bd6-4d98-465d-8f28-c3ed9a41fe4b"
      },
      "execution_count": null,
      "outputs": [
        {
          "output_type": "stream",
          "name": "stdout",
          "text": [
            "2022-03-26 15:43:04.354 INFO    numexpr.utils: NumExpr defaulting to 2 threads.\n",
            "\u001b[0m\n",
            "\u001b[34m\u001b[1m  You can now view your Streamlit app in your browser.\u001b[0m\n",
            "\u001b[0m\n",
            "\u001b[34m  Network URL: \u001b[0m\u001b[1mhttp://172.28.0.2:8501\u001b[0m\n",
            "\u001b[34m  External URL: \u001b[0m\u001b[1mhttp://35.227.153.206:8501\u001b[0m\n",
            "\u001b[0m\n",
            "\u001b[K\u001b[?25hnpx: installed 22 in 5.837s\n",
            "your url is: https://tough-robin-13.loca.lt\n",
            "\u001b[34m  Stopping...\u001b[0m\n",
            "^C\n"
          ]
        }
      ]
    },
    {
      "cell_type": "code",
      "source": [],
      "metadata": {
        "id": "wQ5Veal65S0t"
      },
      "execution_count": null,
      "outputs": []
    }
  ]
}