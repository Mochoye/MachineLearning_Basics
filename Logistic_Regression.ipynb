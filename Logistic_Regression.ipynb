{
  "nbformat": 4,
  "nbformat_minor": 0,
  "metadata": {
    "colab": {
      "provenance": [],
      "authorship_tag": "ABX9TyOyqGDhVDC4QZibdXZ/Oya3",
      "include_colab_link": true
    },
    "kernelspec": {
      "name": "python3",
      "display_name": "Python 3"
    },
    "language_info": {
      "name": "python"
    }
  },
  "cells": [
    {
      "cell_type": "markdown",
      "metadata": {
        "id": "view-in-github",
        "colab_type": "text"
      },
      "source": [
        "<a href=\"https://colab.research.google.com/github/Mochoye/MachineLearning_Basics/blob/main/Logistic_Regression.ipynb\" target=\"_parent\"><img src=\"https://colab.research.google.com/assets/colab-badge.svg\" alt=\"Open In Colab\"/></a>"
      ]
    },
    {
      "cell_type": "code",
      "source": [
        "#social network ads\n",
        "import pandas as pd"
      ],
      "metadata": {
        "id": "VbIYZodngaly"
      },
      "execution_count": null,
      "outputs": []
    },
    {
      "cell_type": "code",
      "execution_count": null,
      "metadata": {
        "colab": {
          "base_uri": "https://localhost:8080/",
          "height": 424
        },
        "id": "IEsmOGlLeqjr",
        "outputId": "7659c511-ee6c-4deb-ca91-ca6f04f46fa9"
      },
      "outputs": [
        {
          "output_type": "execute_result",
          "data": {
            "text/plain": [
              "      User ID  Gender  Age  EstimatedSalary  Purchased\n",
              "0    15624510    Male   19            19000          0\n",
              "1    15810944    Male   35            20000          0\n",
              "2    15668575  Female   26            43000          0\n",
              "3    15603246  Female   27            57000          0\n",
              "4    15804002    Male   19            76000          0\n",
              "..        ...     ...  ...              ...        ...\n",
              "395  15691863  Female   46            41000          1\n",
              "396  15706071    Male   51            23000          1\n",
              "397  15654296  Female   50            20000          1\n",
              "398  15755018    Male   36            33000          0\n",
              "399  15594041  Female   49            36000          1\n",
              "\n",
              "[400 rows x 5 columns]"
            ],
            "text/html": [
              "\n",
              "  <div id=\"df-228f1e26-aa1e-4c77-91f7-d940c48727d4\">\n",
              "    <div class=\"colab-df-container\">\n",
              "      <div>\n",
              "<style scoped>\n",
              "    .dataframe tbody tr th:only-of-type {\n",
              "        vertical-align: middle;\n",
              "    }\n",
              "\n",
              "    .dataframe tbody tr th {\n",
              "        vertical-align: top;\n",
              "    }\n",
              "\n",
              "    .dataframe thead th {\n",
              "        text-align: right;\n",
              "    }\n",
              "</style>\n",
              "<table border=\"1\" class=\"dataframe\">\n",
              "  <thead>\n",
              "    <tr style=\"text-align: right;\">\n",
              "      <th></th>\n",
              "      <th>User ID</th>\n",
              "      <th>Gender</th>\n",
              "      <th>Age</th>\n",
              "      <th>EstimatedSalary</th>\n",
              "      <th>Purchased</th>\n",
              "    </tr>\n",
              "  </thead>\n",
              "  <tbody>\n",
              "    <tr>\n",
              "      <th>0</th>\n",
              "      <td>15624510</td>\n",
              "      <td>Male</td>\n",
              "      <td>19</td>\n",
              "      <td>19000</td>\n",
              "      <td>0</td>\n",
              "    </tr>\n",
              "    <tr>\n",
              "      <th>1</th>\n",
              "      <td>15810944</td>\n",
              "      <td>Male</td>\n",
              "      <td>35</td>\n",
              "      <td>20000</td>\n",
              "      <td>0</td>\n",
              "    </tr>\n",
              "    <tr>\n",
              "      <th>2</th>\n",
              "      <td>15668575</td>\n",
              "      <td>Female</td>\n",
              "      <td>26</td>\n",
              "      <td>43000</td>\n",
              "      <td>0</td>\n",
              "    </tr>\n",
              "    <tr>\n",
              "      <th>3</th>\n",
              "      <td>15603246</td>\n",
              "      <td>Female</td>\n",
              "      <td>27</td>\n",
              "      <td>57000</td>\n",
              "      <td>0</td>\n",
              "    </tr>\n",
              "    <tr>\n",
              "      <th>4</th>\n",
              "      <td>15804002</td>\n",
              "      <td>Male</td>\n",
              "      <td>19</td>\n",
              "      <td>76000</td>\n",
              "      <td>0</td>\n",
              "    </tr>\n",
              "    <tr>\n",
              "      <th>...</th>\n",
              "      <td>...</td>\n",
              "      <td>...</td>\n",
              "      <td>...</td>\n",
              "      <td>...</td>\n",
              "      <td>...</td>\n",
              "    </tr>\n",
              "    <tr>\n",
              "      <th>395</th>\n",
              "      <td>15691863</td>\n",
              "      <td>Female</td>\n",
              "      <td>46</td>\n",
              "      <td>41000</td>\n",
              "      <td>1</td>\n",
              "    </tr>\n",
              "    <tr>\n",
              "      <th>396</th>\n",
              "      <td>15706071</td>\n",
              "      <td>Male</td>\n",
              "      <td>51</td>\n",
              "      <td>23000</td>\n",
              "      <td>1</td>\n",
              "    </tr>\n",
              "    <tr>\n",
              "      <th>397</th>\n",
              "      <td>15654296</td>\n",
              "      <td>Female</td>\n",
              "      <td>50</td>\n",
              "      <td>20000</td>\n",
              "      <td>1</td>\n",
              "    </tr>\n",
              "    <tr>\n",
              "      <th>398</th>\n",
              "      <td>15755018</td>\n",
              "      <td>Male</td>\n",
              "      <td>36</td>\n",
              "      <td>33000</td>\n",
              "      <td>0</td>\n",
              "    </tr>\n",
              "    <tr>\n",
              "      <th>399</th>\n",
              "      <td>15594041</td>\n",
              "      <td>Female</td>\n",
              "      <td>49</td>\n",
              "      <td>36000</td>\n",
              "      <td>1</td>\n",
              "    </tr>\n",
              "  </tbody>\n",
              "</table>\n",
              "<p>400 rows × 5 columns</p>\n",
              "</div>\n",
              "      <button class=\"colab-df-convert\" onclick=\"convertToInteractive('df-228f1e26-aa1e-4c77-91f7-d940c48727d4')\"\n",
              "              title=\"Convert this dataframe to an interactive table.\"\n",
              "              style=\"display:none;\">\n",
              "        \n",
              "  <svg xmlns=\"http://www.w3.org/2000/svg\" height=\"24px\"viewBox=\"0 0 24 24\"\n",
              "       width=\"24px\">\n",
              "    <path d=\"M0 0h24v24H0V0z\" fill=\"none\"/>\n",
              "    <path d=\"M18.56 5.44l.94 2.06.94-2.06 2.06-.94-2.06-.94-.94-2.06-.94 2.06-2.06.94zm-11 1L8.5 8.5l.94-2.06 2.06-.94-2.06-.94L8.5 2.5l-.94 2.06-2.06.94zm10 10l.94 2.06.94-2.06 2.06-.94-2.06-.94-.94-2.06-.94 2.06-2.06.94z\"/><path d=\"M17.41 7.96l-1.37-1.37c-.4-.4-.92-.59-1.43-.59-.52 0-1.04.2-1.43.59L10.3 9.45l-7.72 7.72c-.78.78-.78 2.05 0 2.83L4 21.41c.39.39.9.59 1.41.59.51 0 1.02-.2 1.41-.59l7.78-7.78 2.81-2.81c.8-.78.8-2.07 0-2.86zM5.41 20L4 18.59l7.72-7.72 1.47 1.35L5.41 20z\"/>\n",
              "  </svg>\n",
              "      </button>\n",
              "      \n",
              "  <style>\n",
              "    .colab-df-container {\n",
              "      display:flex;\n",
              "      flex-wrap:wrap;\n",
              "      gap: 12px;\n",
              "    }\n",
              "\n",
              "    .colab-df-convert {\n",
              "      background-color: #E8F0FE;\n",
              "      border: none;\n",
              "      border-radius: 50%;\n",
              "      cursor: pointer;\n",
              "      display: none;\n",
              "      fill: #1967D2;\n",
              "      height: 32px;\n",
              "      padding: 0 0 0 0;\n",
              "      width: 32px;\n",
              "    }\n",
              "\n",
              "    .colab-df-convert:hover {\n",
              "      background-color: #E2EBFA;\n",
              "      box-shadow: 0px 1px 2px rgba(60, 64, 67, 0.3), 0px 1px 3px 1px rgba(60, 64, 67, 0.15);\n",
              "      fill: #174EA6;\n",
              "    }\n",
              "\n",
              "    [theme=dark] .colab-df-convert {\n",
              "      background-color: #3B4455;\n",
              "      fill: #D2E3FC;\n",
              "    }\n",
              "\n",
              "    [theme=dark] .colab-df-convert:hover {\n",
              "      background-color: #434B5C;\n",
              "      box-shadow: 0px 1px 3px 1px rgba(0, 0, 0, 0.15);\n",
              "      filter: drop-shadow(0px 1px 2px rgba(0, 0, 0, 0.3));\n",
              "      fill: #FFFFFF;\n",
              "    }\n",
              "  </style>\n",
              "\n",
              "      <script>\n",
              "        const buttonEl =\n",
              "          document.querySelector('#df-228f1e26-aa1e-4c77-91f7-d940c48727d4 button.colab-df-convert');\n",
              "        buttonEl.style.display =\n",
              "          google.colab.kernel.accessAllowed ? 'block' : 'none';\n",
              "\n",
              "        async function convertToInteractive(key) {\n",
              "          const element = document.querySelector('#df-228f1e26-aa1e-4c77-91f7-d940c48727d4');\n",
              "          const dataTable =\n",
              "            await google.colab.kernel.invokeFunction('convertToInteractive',\n",
              "                                                     [key], {});\n",
              "          if (!dataTable) return;\n",
              "\n",
              "          const docLinkHtml = 'Like what you see? Visit the ' +\n",
              "            '<a target=\"_blank\" href=https://colab.research.google.com/notebooks/data_table.ipynb>data table notebook</a>'\n",
              "            + ' to learn more about interactive tables.';\n",
              "          element.innerHTML = '';\n",
              "          dataTable['output_type'] = 'display_data';\n",
              "          await google.colab.output.renderOutput(dataTable, element);\n",
              "          const docLink = document.createElement('div');\n",
              "          docLink.innerHTML = docLinkHtml;\n",
              "          element.appendChild(docLink);\n",
              "        }\n",
              "      </script>\n",
              "    </div>\n",
              "  </div>\n",
              "  "
            ]
          },
          "metadata": {},
          "execution_count": 2
        }
      ],
      "source": [
        "#0- not purchased,1-purchased\n",
        "df=pd.read_csv('/content/Social_Network_Ads.csv')\n",
        "df\n"
      ]
    },
    {
      "cell_type": "code",
      "source": [
        "df.info()"
      ],
      "metadata": {
        "colab": {
          "base_uri": "https://localhost:8080/"
        },
        "id": "KvFgLxHRgeby",
        "outputId": "a1418f0e-3707-4ce1-86c1-1f7bb66f0b21"
      },
      "execution_count": null,
      "outputs": [
        {
          "output_type": "stream",
          "name": "stdout",
          "text": [
            "<class 'pandas.core.frame.DataFrame'>\n",
            "RangeIndex: 400 entries, 0 to 399\n",
            "Data columns (total 5 columns):\n",
            " #   Column           Non-Null Count  Dtype \n",
            "---  ------           --------------  ----- \n",
            " 0   User ID          400 non-null    int64 \n",
            " 1   Gender           400 non-null    object\n",
            " 2   Age              400 non-null    int64 \n",
            " 3   EstimatedSalary  400 non-null    int64 \n",
            " 4   Purchased        400 non-null    int64 \n",
            "dtypes: int64(4), object(1)\n",
            "memory usage: 15.8+ KB\n"
          ]
        }
      ]
    },
    {
      "cell_type": "code",
      "source": [
        "df.shape"
      ],
      "metadata": {
        "colab": {
          "base_uri": "https://localhost:8080/"
        },
        "id": "oJhc5qZoOJW1",
        "outputId": "719fce50-a08b-47aa-f27d-f4a026eb2170"
      },
      "execution_count": null,
      "outputs": [
        {
          "output_type": "execute_result",
          "data": {
            "text/plain": [
              "(400, 5)"
            ]
          },
          "metadata": {},
          "execution_count": 4
        }
      ]
    },
    {
      "cell_type": "code",
      "source": [
        "df.size"
      ],
      "metadata": {
        "colab": {
          "base_uri": "https://localhost:8080/"
        },
        "id": "pZGGe-MvOTfP",
        "outputId": "8ca0d4a3-fb10-4d39-f7f6-c9febbe47df9"
      },
      "execution_count": null,
      "outputs": [
        {
          "output_type": "execute_result",
          "data": {
            "text/plain": [
              "2000"
            ]
          },
          "metadata": {},
          "execution_count": 5
        }
      ]
    },
    {
      "cell_type": "code",
      "source": [
        "#iloc used to selct the part of a data frame\n",
        "#integer location based indexing \n",
        "x=df.iloc[:,[2,3]].values #two dimensional input\n",
        "y=df.iloc[:,-1].values    #one dimensional input data"
      ],
      "metadata": {
        "id": "BKJvQErbOUCW"
      },
      "execution_count": null,
      "outputs": []
    },
    {
      "cell_type": "code",
      "source": [
        "x"
      ],
      "metadata": {
        "colab": {
          "base_uri": "https://localhost:8080/"
        },
        "id": "2rl6wHJuOxie",
        "outputId": "39171ce2-3342-4ad8-ae7d-29796d1e7a40"
      },
      "execution_count": null,
      "outputs": [
        {
          "output_type": "execute_result",
          "data": {
            "text/plain": [
              "array([[    19,  19000],\n",
              "       [    35,  20000],\n",
              "       [    26,  43000],\n",
              "       [    27,  57000],\n",
              "       [    19,  76000],\n",
              "       [    27,  58000],\n",
              "       [    27,  84000],\n",
              "       [    32, 150000],\n",
              "       [    25,  33000],\n",
              "       [    35,  65000],\n",
              "       [    26,  80000],\n",
              "       [    26,  52000],\n",
              "       [    20,  86000],\n",
              "       [    32,  18000],\n",
              "       [    18,  82000],\n",
              "       [    29,  80000],\n",
              "       [    47,  25000],\n",
              "       [    45,  26000],\n",
              "       [    46,  28000],\n",
              "       [    48,  29000],\n",
              "       [    45,  22000],\n",
              "       [    47,  49000],\n",
              "       [    48,  41000],\n",
              "       [    45,  22000],\n",
              "       [    46,  23000],\n",
              "       [    47,  20000],\n",
              "       [    49,  28000],\n",
              "       [    47,  30000],\n",
              "       [    29,  43000],\n",
              "       [    31,  18000],\n",
              "       [    31,  74000],\n",
              "       [    27, 137000],\n",
              "       [    21,  16000],\n",
              "       [    28,  44000],\n",
              "       [    27,  90000],\n",
              "       [    35,  27000],\n",
              "       [    33,  28000],\n",
              "       [    30,  49000],\n",
              "       [    26,  72000],\n",
              "       [    27,  31000],\n",
              "       [    27,  17000],\n",
              "       [    33,  51000],\n",
              "       [    35, 108000],\n",
              "       [    30,  15000],\n",
              "       [    28,  84000],\n",
              "       [    23,  20000],\n",
              "       [    25,  79000],\n",
              "       [    27,  54000],\n",
              "       [    30, 135000],\n",
              "       [    31,  89000],\n",
              "       [    24,  32000],\n",
              "       [    18,  44000],\n",
              "       [    29,  83000],\n",
              "       [    35,  23000],\n",
              "       [    27,  58000],\n",
              "       [    24,  55000],\n",
              "       [    23,  48000],\n",
              "       [    28,  79000],\n",
              "       [    22,  18000],\n",
              "       [    32, 117000],\n",
              "       [    27,  20000],\n",
              "       [    25,  87000],\n",
              "       [    23,  66000],\n",
              "       [    32, 120000],\n",
              "       [    59,  83000],\n",
              "       [    24,  58000],\n",
              "       [    24,  19000],\n",
              "       [    23,  82000],\n",
              "       [    22,  63000],\n",
              "       [    31,  68000],\n",
              "       [    25,  80000],\n",
              "       [    24,  27000],\n",
              "       [    20,  23000],\n",
              "       [    33, 113000],\n",
              "       [    32,  18000],\n",
              "       [    34, 112000],\n",
              "       [    18,  52000],\n",
              "       [    22,  27000],\n",
              "       [    28,  87000],\n",
              "       [    26,  17000],\n",
              "       [    30,  80000],\n",
              "       [    39,  42000],\n",
              "       [    20,  49000],\n",
              "       [    35,  88000],\n",
              "       [    30,  62000],\n",
              "       [    31, 118000],\n",
              "       [    24,  55000],\n",
              "       [    28,  85000],\n",
              "       [    26,  81000],\n",
              "       [    35,  50000],\n",
              "       [    22,  81000],\n",
              "       [    30, 116000],\n",
              "       [    26,  15000],\n",
              "       [    29,  28000],\n",
              "       [    29,  83000],\n",
              "       [    35,  44000],\n",
              "       [    35,  25000],\n",
              "       [    28, 123000],\n",
              "       [    35,  73000],\n",
              "       [    28,  37000],\n",
              "       [    27,  88000],\n",
              "       [    28,  59000],\n",
              "       [    32,  86000],\n",
              "       [    33, 149000],\n",
              "       [    19,  21000],\n",
              "       [    21,  72000],\n",
              "       [    26,  35000],\n",
              "       [    27,  89000],\n",
              "       [    26,  86000],\n",
              "       [    38,  80000],\n",
              "       [    39,  71000],\n",
              "       [    37,  71000],\n",
              "       [    38,  61000],\n",
              "       [    37,  55000],\n",
              "       [    42,  80000],\n",
              "       [    40,  57000],\n",
              "       [    35,  75000],\n",
              "       [    36,  52000],\n",
              "       [    40,  59000],\n",
              "       [    41,  59000],\n",
              "       [    36,  75000],\n",
              "       [    37,  72000],\n",
              "       [    40,  75000],\n",
              "       [    35,  53000],\n",
              "       [    41,  51000],\n",
              "       [    39,  61000],\n",
              "       [    42,  65000],\n",
              "       [    26,  32000],\n",
              "       [    30,  17000],\n",
              "       [    26,  84000],\n",
              "       [    31,  58000],\n",
              "       [    33,  31000],\n",
              "       [    30,  87000],\n",
              "       [    21,  68000],\n",
              "       [    28,  55000],\n",
              "       [    23,  63000],\n",
              "       [    20,  82000],\n",
              "       [    30, 107000],\n",
              "       [    28,  59000],\n",
              "       [    19,  25000],\n",
              "       [    19,  85000],\n",
              "       [    18,  68000],\n",
              "       [    35,  59000],\n",
              "       [    30,  89000],\n",
              "       [    34,  25000],\n",
              "       [    24,  89000],\n",
              "       [    27,  96000],\n",
              "       [    41,  30000],\n",
              "       [    29,  61000],\n",
              "       [    20,  74000],\n",
              "       [    26,  15000],\n",
              "       [    41,  45000],\n",
              "       [    31,  76000],\n",
              "       [    36,  50000],\n",
              "       [    40,  47000],\n",
              "       [    31,  15000],\n",
              "       [    46,  59000],\n",
              "       [    29,  75000],\n",
              "       [    26,  30000],\n",
              "       [    32, 135000],\n",
              "       [    32, 100000],\n",
              "       [    25,  90000],\n",
              "       [    37,  33000],\n",
              "       [    35,  38000],\n",
              "       [    33,  69000],\n",
              "       [    18,  86000],\n",
              "       [    22,  55000],\n",
              "       [    35,  71000],\n",
              "       [    29, 148000],\n",
              "       [    29,  47000],\n",
              "       [    21,  88000],\n",
              "       [    34, 115000],\n",
              "       [    26, 118000],\n",
              "       [    34,  43000],\n",
              "       [    34,  72000],\n",
              "       [    23,  28000],\n",
              "       [    35,  47000],\n",
              "       [    25,  22000],\n",
              "       [    24,  23000],\n",
              "       [    31,  34000],\n",
              "       [    26,  16000],\n",
              "       [    31,  71000],\n",
              "       [    32, 117000],\n",
              "       [    33,  43000],\n",
              "       [    33,  60000],\n",
              "       [    31,  66000],\n",
              "       [    20,  82000],\n",
              "       [    33,  41000],\n",
              "       [    35,  72000],\n",
              "       [    28,  32000],\n",
              "       [    24,  84000],\n",
              "       [    19,  26000],\n",
              "       [    29,  43000],\n",
              "       [    19,  70000],\n",
              "       [    28,  89000],\n",
              "       [    34,  43000],\n",
              "       [    30,  79000],\n",
              "       [    20,  36000],\n",
              "       [    26,  80000],\n",
              "       [    35,  22000],\n",
              "       [    35,  39000],\n",
              "       [    49,  74000],\n",
              "       [    39, 134000],\n",
              "       [    41,  71000],\n",
              "       [    58, 101000],\n",
              "       [    47,  47000],\n",
              "       [    55, 130000],\n",
              "       [    52, 114000],\n",
              "       [    40, 142000],\n",
              "       [    46,  22000],\n",
              "       [    48,  96000],\n",
              "       [    52, 150000],\n",
              "       [    59,  42000],\n",
              "       [    35,  58000],\n",
              "       [    47,  43000],\n",
              "       [    60, 108000],\n",
              "       [    49,  65000],\n",
              "       [    40,  78000],\n",
              "       [    46,  96000],\n",
              "       [    59, 143000],\n",
              "       [    41,  80000],\n",
              "       [    35,  91000],\n",
              "       [    37, 144000],\n",
              "       [    60, 102000],\n",
              "       [    35,  60000],\n",
              "       [    37,  53000],\n",
              "       [    36, 126000],\n",
              "       [    56, 133000],\n",
              "       [    40,  72000],\n",
              "       [    42,  80000],\n",
              "       [    35, 147000],\n",
              "       [    39,  42000],\n",
              "       [    40, 107000],\n",
              "       [    49,  86000],\n",
              "       [    38, 112000],\n",
              "       [    46,  79000],\n",
              "       [    40,  57000],\n",
              "       [    37,  80000],\n",
              "       [    46,  82000],\n",
              "       [    53, 143000],\n",
              "       [    42, 149000],\n",
              "       [    38,  59000],\n",
              "       [    50,  88000],\n",
              "       [    56, 104000],\n",
              "       [    41,  72000],\n",
              "       [    51, 146000],\n",
              "       [    35,  50000],\n",
              "       [    57, 122000],\n",
              "       [    41,  52000],\n",
              "       [    35,  97000],\n",
              "       [    44,  39000],\n",
              "       [    37,  52000],\n",
              "       [    48, 134000],\n",
              "       [    37, 146000],\n",
              "       [    50,  44000],\n",
              "       [    52,  90000],\n",
              "       [    41,  72000],\n",
              "       [    40,  57000],\n",
              "       [    58,  95000],\n",
              "       [    45, 131000],\n",
              "       [    35,  77000],\n",
              "       [    36, 144000],\n",
              "       [    55, 125000],\n",
              "       [    35,  72000],\n",
              "       [    48,  90000],\n",
              "       [    42, 108000],\n",
              "       [    40,  75000],\n",
              "       [    37,  74000],\n",
              "       [    47, 144000],\n",
              "       [    40,  61000],\n",
              "       [    43, 133000],\n",
              "       [    59,  76000],\n",
              "       [    60,  42000],\n",
              "       [    39, 106000],\n",
              "       [    57,  26000],\n",
              "       [    57,  74000],\n",
              "       [    38,  71000],\n",
              "       [    49,  88000],\n",
              "       [    52,  38000],\n",
              "       [    50,  36000],\n",
              "       [    59,  88000],\n",
              "       [    35,  61000],\n",
              "       [    37,  70000],\n",
              "       [    52,  21000],\n",
              "       [    48, 141000],\n",
              "       [    37,  93000],\n",
              "       [    37,  62000],\n",
              "       [    48, 138000],\n",
              "       [    41,  79000],\n",
              "       [    37,  78000],\n",
              "       [    39, 134000],\n",
              "       [    49,  89000],\n",
              "       [    55,  39000],\n",
              "       [    37,  77000],\n",
              "       [    35,  57000],\n",
              "       [    36,  63000],\n",
              "       [    42,  73000],\n",
              "       [    43, 112000],\n",
              "       [    45,  79000],\n",
              "       [    46, 117000],\n",
              "       [    58,  38000],\n",
              "       [    48,  74000],\n",
              "       [    37, 137000],\n",
              "       [    37,  79000],\n",
              "       [    40,  60000],\n",
              "       [    42,  54000],\n",
              "       [    51, 134000],\n",
              "       [    47, 113000],\n",
              "       [    36, 125000],\n",
              "       [    38,  50000],\n",
              "       [    42,  70000],\n",
              "       [    39,  96000],\n",
              "       [    38,  50000],\n",
              "       [    49, 141000],\n",
              "       [    39,  79000],\n",
              "       [    39,  75000],\n",
              "       [    54, 104000],\n",
              "       [    35,  55000],\n",
              "       [    45,  32000],\n",
              "       [    36,  60000],\n",
              "       [    52, 138000],\n",
              "       [    53,  82000],\n",
              "       [    41,  52000],\n",
              "       [    48,  30000],\n",
              "       [    48, 131000],\n",
              "       [    41,  60000],\n",
              "       [    41,  72000],\n",
              "       [    42,  75000],\n",
              "       [    36, 118000],\n",
              "       [    47, 107000],\n",
              "       [    38,  51000],\n",
              "       [    48, 119000],\n",
              "       [    42,  65000],\n",
              "       [    40,  65000],\n",
              "       [    57,  60000],\n",
              "       [    36,  54000],\n",
              "       [    58, 144000],\n",
              "       [    35,  79000],\n",
              "       [    38,  55000],\n",
              "       [    39, 122000],\n",
              "       [    53, 104000],\n",
              "       [    35,  75000],\n",
              "       [    38,  65000],\n",
              "       [    47,  51000],\n",
              "       [    47, 105000],\n",
              "       [    41,  63000],\n",
              "       [    53,  72000],\n",
              "       [    54, 108000],\n",
              "       [    39,  77000],\n",
              "       [    38,  61000],\n",
              "       [    38, 113000],\n",
              "       [    37,  75000],\n",
              "       [    42,  90000],\n",
              "       [    37,  57000],\n",
              "       [    36,  99000],\n",
              "       [    60,  34000],\n",
              "       [    54,  70000],\n",
              "       [    41,  72000],\n",
              "       [    40,  71000],\n",
              "       [    42,  54000],\n",
              "       [    43, 129000],\n",
              "       [    53,  34000],\n",
              "       [    47,  50000],\n",
              "       [    42,  79000],\n",
              "       [    42, 104000],\n",
              "       [    59,  29000],\n",
              "       [    58,  47000],\n",
              "       [    46,  88000],\n",
              "       [    38,  71000],\n",
              "       [    54,  26000],\n",
              "       [    60,  46000],\n",
              "       [    60,  83000],\n",
              "       [    39,  73000],\n",
              "       [    59, 130000],\n",
              "       [    37,  80000],\n",
              "       [    46,  32000],\n",
              "       [    46,  74000],\n",
              "       [    42,  53000],\n",
              "       [    41,  87000],\n",
              "       [    58,  23000],\n",
              "       [    42,  64000],\n",
              "       [    48,  33000],\n",
              "       [    44, 139000],\n",
              "       [    49,  28000],\n",
              "       [    57,  33000],\n",
              "       [    56,  60000],\n",
              "       [    49,  39000],\n",
              "       [    39,  71000],\n",
              "       [    47,  34000],\n",
              "       [    48,  35000],\n",
              "       [    48,  33000],\n",
              "       [    47,  23000],\n",
              "       [    45,  45000],\n",
              "       [    60,  42000],\n",
              "       [    39,  59000],\n",
              "       [    46,  41000],\n",
              "       [    51,  23000],\n",
              "       [    50,  20000],\n",
              "       [    36,  33000],\n",
              "       [    49,  36000]])"
            ]
          },
          "metadata": {},
          "execution_count": 7
        }
      ]
    },
    {
      "cell_type": "code",
      "source": [
        "y"
      ],
      "metadata": {
        "colab": {
          "base_uri": "https://localhost:8080/"
        },
        "id": "NuSrEenQRdy7",
        "outputId": "56f7dd1d-f970-4f40-8ed2-862d73b750b8"
      },
      "execution_count": null,
      "outputs": [
        {
          "output_type": "execute_result",
          "data": {
            "text/plain": [
              "array([0, 0, 0, 0, 0, 0, 0, 1, 0, 0, 0, 0, 0, 0, 0, 0, 1, 1, 1, 1, 1, 1,\n",
              "       1, 1, 1, 1, 1, 1, 0, 0, 0, 1, 0, 0, 0, 0, 0, 0, 0, 0, 0, 0, 0, 0,\n",
              "       0, 0, 0, 0, 1, 0, 0, 0, 0, 0, 0, 0, 0, 0, 0, 0, 0, 0, 0, 1, 0, 0,\n",
              "       0, 0, 0, 0, 0, 0, 0, 0, 0, 1, 0, 0, 0, 0, 0, 0, 0, 0, 0, 1, 0, 0,\n",
              "       0, 0, 0, 0, 0, 0, 0, 0, 0, 1, 0, 0, 0, 0, 0, 1, 0, 0, 0, 0, 0, 0,\n",
              "       0, 0, 0, 0, 0, 0, 0, 0, 0, 0, 0, 0, 0, 0, 0, 0, 0, 0, 0, 0, 0, 0,\n",
              "       0, 0, 0, 0, 0, 1, 0, 0, 0, 0, 0, 0, 0, 0, 1, 0, 0, 0, 0, 0, 0, 0,\n",
              "       0, 0, 0, 0, 0, 1, 1, 0, 0, 0, 0, 0, 0, 0, 1, 0, 0, 0, 0, 0, 0, 0,\n",
              "       0, 0, 0, 0, 0, 0, 1, 0, 0, 0, 0, 0, 0, 0, 0, 0, 0, 0, 0, 0, 0, 0,\n",
              "       0, 0, 0, 0, 1, 0, 1, 0, 1, 0, 1, 0, 1, 1, 0, 0, 0, 1, 0, 0, 0, 1,\n",
              "       0, 1, 1, 1, 0, 0, 1, 1, 0, 1, 1, 0, 1, 1, 0, 1, 0, 0, 0, 1, 1, 0,\n",
              "       1, 1, 0, 1, 0, 1, 0, 1, 0, 0, 1, 1, 0, 1, 0, 0, 1, 1, 0, 1, 1, 0,\n",
              "       1, 1, 0, 0, 1, 0, 0, 1, 1, 1, 1, 1, 0, 1, 1, 1, 1, 0, 1, 1, 0, 1,\n",
              "       0, 1, 0, 1, 1, 1, 1, 0, 0, 0, 1, 1, 0, 1, 1, 1, 1, 1, 0, 0, 0, 1,\n",
              "       1, 0, 0, 1, 0, 1, 0, 1, 1, 0, 1, 0, 1, 1, 0, 1, 1, 0, 0, 0, 1, 1,\n",
              "       0, 1, 0, 0, 1, 0, 1, 0, 0, 1, 1, 0, 0, 1, 1, 0, 1, 1, 0, 0, 1, 0,\n",
              "       1, 0, 1, 1, 1, 0, 1, 0, 1, 1, 1, 0, 1, 1, 1, 1, 0, 1, 1, 1, 0, 1,\n",
              "       0, 1, 0, 0, 1, 1, 0, 1, 1, 1, 1, 1, 1, 0, 1, 1, 1, 1, 1, 1, 0, 1,\n",
              "       1, 1, 0, 1])"
            ]
          },
          "metadata": {},
          "execution_count": 8
        }
      ]
    },
    {
      "cell_type": "code",
      "source": [
        "from sklearn.model_selection import train_test_split\n",
        "x_train,x_test,y_train,y_test=train_test_split(x,y,random_state=0)"
      ],
      "metadata": {
        "id": "UTrZpLx_Re4r"
      },
      "execution_count": null,
      "outputs": []
    },
    {
      "cell_type": "code",
      "source": [
        "x_train.shape"
      ],
      "metadata": {
        "colab": {
          "base_uri": "https://localhost:8080/"
        },
        "id": "45dJ1QkESChl",
        "outputId": "db17b58f-817b-4030-a5d0-07c3629015ae"
      },
      "execution_count": null,
      "outputs": [
        {
          "output_type": "execute_result",
          "data": {
            "text/plain": [
              "(300, 2)"
            ]
          },
          "metadata": {},
          "execution_count": 10
        }
      ]
    },
    {
      "cell_type": "code",
      "source": [
        "x_test.shape"
      ],
      "metadata": {
        "colab": {
          "base_uri": "https://localhost:8080/"
        },
        "id": "TLY8m-lNSJVU",
        "outputId": "c61a4619-24dc-41ba-8cf9-e517381b672e"
      },
      "execution_count": null,
      "outputs": [
        {
          "output_type": "execute_result",
          "data": {
            "text/plain": [
              "(100, 2)"
            ]
          },
          "metadata": {},
          "execution_count": 11
        }
      ]
    },
    {
      "cell_type": "code",
      "source": [
        "from sklearn.linear_model import LogisticRegression\n",
        "model=LogisticRegression()"
      ],
      "metadata": {
        "id": "Jyani39tSO7E"
      },
      "execution_count": null,
      "outputs": []
    },
    {
      "cell_type": "code",
      "source": [
        "model.fit(x,y)"
      ],
      "metadata": {
        "colab": {
          "base_uri": "https://localhost:8080/"
        },
        "id": "kXMz48C7SaLk",
        "outputId": "4c72c77a-8bb0-4260-8f97-03bc36f57a5a"
      },
      "execution_count": null,
      "outputs": [
        {
          "output_type": "execute_result",
          "data": {
            "text/plain": [
              "LogisticRegression()"
            ]
          },
          "metadata": {},
          "execution_count": 13
        }
      ]
    },
    {
      "cell_type": "code",
      "source": [
        "y_pred=model.predict(x_test)\n",
        "y_pred"
      ],
      "metadata": {
        "colab": {
          "base_uri": "https://localhost:8080/"
        },
        "id": "ZOj5ssyxSeBj",
        "outputId": "338ef2f4-0cbb-4d04-f100-ace614c95df1"
      },
      "execution_count": null,
      "outputs": [
        {
          "output_type": "execute_result",
          "data": {
            "text/plain": [
              "array([0, 0, 0, 0, 0, 0, 0, 0, 0, 0, 0, 0, 0, 0, 0, 0, 0, 0, 0, 0, 0, 0,\n",
              "       0, 0, 0, 0, 0, 0, 0, 0, 0, 0, 0, 0, 0, 0, 0, 0, 0, 0, 0, 0, 0, 0,\n",
              "       0, 0, 0, 0, 0, 0, 0, 0, 0, 0, 0, 0, 0, 0, 0, 0, 0, 0, 0, 0, 0, 0,\n",
              "       0, 0, 0, 0, 0, 0, 0, 0, 0, 0, 0, 0, 0, 0, 0, 0, 0, 0, 0, 0, 0, 0,\n",
              "       0, 0, 0, 0, 0, 0, 0, 0, 0, 0, 0, 0])"
            ]
          },
          "metadata": {},
          "execution_count": 14
        }
      ]
    },
    {
      "cell_type": "code",
      "source": [
        "y_test"
      ],
      "metadata": {
        "colab": {
          "base_uri": "https://localhost:8080/"
        },
        "id": "cwCD8w4oSn1b",
        "outputId": "7c17d65f-3774-4324-d24c-052fed61597c"
      },
      "execution_count": null,
      "outputs": [
        {
          "output_type": "execute_result",
          "data": {
            "text/plain": [
              "array([0, 0, 0, 0, 0, 0, 0, 1, 0, 0, 0, 0, 0, 0, 0, 0, 0, 0, 1, 0, 0, 1,\n",
              "       0, 1, 0, 1, 0, 0, 0, 0, 0, 1, 1, 0, 0, 0, 0, 0, 0, 1, 0, 0, 0, 0,\n",
              "       1, 0, 0, 1, 0, 1, 1, 0, 0, 0, 1, 1, 0, 0, 1, 0, 0, 1, 0, 1, 0, 1,\n",
              "       0, 0, 0, 0, 1, 0, 0, 1, 0, 0, 0, 0, 1, 1, 1, 0, 0, 0, 1, 1, 0, 1,\n",
              "       1, 0, 0, 1, 0, 0, 0, 1, 0, 1, 1, 1])"
            ]
          },
          "metadata": {},
          "execution_count": 15
        }
      ]
    },
    {
      "cell_type": "code",
      "source": [
        "import numpy as np\n",
        "np.unique(y_test,return_counts=True) #actual output"
      ],
      "metadata": {
        "colab": {
          "base_uri": "https://localhost:8080/"
        },
        "id": "MwiSdTJ3Sp6r",
        "outputId": "c2bc5170-48e4-455c-96cf-7801b400bf18"
      },
      "execution_count": null,
      "outputs": [
        {
          "output_type": "execute_result",
          "data": {
            "text/plain": [
              "(array([0, 1]), array([68, 32]))"
            ]
          },
          "metadata": {},
          "execution_count": 16
        }
      ]
    },
    {
      "cell_type": "code",
      "source": [
        "\n",
        "np.unique(y_pred,return_counts=True) #model output"
      ],
      "metadata": {
        "colab": {
          "base_uri": "https://localhost:8080/"
        },
        "id": "aioWpkbkTGpD",
        "outputId": "ccafd11f-34dc-41b7-ee78-195c1c2b85e7"
      },
      "execution_count": null,
      "outputs": [
        {
          "output_type": "execute_result",
          "data": {
            "text/plain": [
              "(array([0]), array([100]))"
            ]
          },
          "metadata": {},
          "execution_count": 17
        }
      ]
    },
    {
      "cell_type": "code",
      "source": [
        "#Normalization step\n",
        "#Scaling the values\n",
        "import numpy as Normalization\n",
        "import matplotlib.pyplot as plt\n",
        "#Examples for using min max scaler(numpy implementation)\n",
        "np.random.seed(100)\n",
        "x1=np.random.randint(18,60,30)\n",
        "x1=np.sort(x1)\n",
        "x2=np.random.randint(15000,150000,30)\n",
        "plt.plot(x1,x2)"
      ],
      "metadata": {
        "id": "x37EoEiGTO4b",
        "colab": {
          "base_uri": "https://localhost:8080/",
          "height": 282
        },
        "outputId": "1aded7b2-9936-411e-e4b8-a5a18dd193e5"
      },
      "execution_count": null,
      "outputs": [
        {
          "output_type": "execute_result",
          "data": {
            "text/plain": [
              "[<matplotlib.lines.Line2D at 0x7f839c314d10>]"
            ]
          },
          "metadata": {},
          "execution_count": 18
        },
        {
          "output_type": "display_data",
          "data": {
            "text/plain": [
              "<Figure size 432x288 with 1 Axes>"
            ],
            "image/png": "[encoded data removed]"
          },
          "metadata": {
            "needs_background": "light"
          }
        }
      ]
    },
    {
      "cell_type": "code",
      "source": [
        "x1min=min(x1)\n",
        "x1max=max(x1)\n",
        "x2min=min(x1)\n",
        "x2max=max(x1)\n",
        "\n",
        "x1norm=(x1-x1min)/(x1max-x1min)\n",
        "\n",
        "x2norm=(x2-x2min)/(x2max-x2min)\n",
        "\n",
        "plt.plot(x1norm,x2norm)"
      ],
      "metadata": {
        "colab": {
          "base_uri": "https://localhost:8080/",
          "height": 283
        },
        "id": "LUeaNE2r9VQk",
        "outputId": "8d16ff08-0141-4dac-f7a9-a32026ed239f"
      },
      "execution_count": null,
      "outputs": [
        {
          "output_type": "execute_result",
          "data": {
            "text/plain": [
              "[<matplotlib.lines.Line2D at 0x7f839b6a44d0>]"
            ]
          },
          "metadata": {},
          "execution_count": 19
        },
        {
          "output_type": "display_data",
          "data": {
            "text/plain": [
              "<Figure size 432x288 with 1 Axes>"
            ],
            "image/png": "[encoded data removed]"
          },
          "metadata": {
            "needs_background": "light"
          }
        }
      ]
    },
    {
      "cell_type": "code",
      "source": [
        "x_test"
      ],
      "metadata": {
        "id": "iNZwunBQBCo2",
        "colab": {
          "base_uri": "https://localhost:8080/"
        },
        "outputId": "7f272f1c-0f57-4965-8d32-f776160823ad"
      },
      "execution_count": null,
      "outputs": [
        {
          "output_type": "execute_result",
          "data": {
            "text/plain": [
              "array([[    30,  87000],\n",
              "       [    38,  50000],\n",
              "       [    35,  75000],\n",
              "       [    30,  79000],\n",
              "       [    35,  50000],\n",
              "       [    27,  20000],\n",
              "       [    31,  15000],\n",
              "       [    36, 144000],\n",
              "       [    18,  68000],\n",
              "       [    47,  43000],\n",
              "       [    30,  49000],\n",
              "       [    28,  55000],\n",
              "       [    37,  55000],\n",
              "       [    39,  77000],\n",
              "       [    20,  86000],\n",
              "       [    32, 117000],\n",
              "       [    37,  77000],\n",
              "       [    19,  85000],\n",
              "       [    55, 130000],\n",
              "       [    35,  22000],\n",
              "       [    35,  47000],\n",
              "       [    47, 144000],\n",
              "       [    41,  51000],\n",
              "       [    47, 105000],\n",
              "       [    23,  28000],\n",
              "       [    49, 141000],\n",
              "       [    28,  87000],\n",
              "       [    29,  80000],\n",
              "       [    37,  62000],\n",
              "       [    32,  86000],\n",
              "       [    21,  88000],\n",
              "       [    37,  79000],\n",
              "       [    57,  60000],\n",
              "       [    37,  53000],\n",
              "       [    24,  58000],\n",
              "       [    18,  52000],\n",
              "       [    22,  81000],\n",
              "       [    34,  43000],\n",
              "       [    31,  34000],\n",
              "       [    49,  36000],\n",
              "       [    27,  88000],\n",
              "       [    41,  52000],\n",
              "       [    27,  84000],\n",
              "       [    35,  20000],\n",
              "       [    43, 112000],\n",
              "       [    27,  58000],\n",
              "       [    37,  80000],\n",
              "       [    52,  90000],\n",
              "       [    26,  30000],\n",
              "       [    49,  86000],\n",
              "       [    57, 122000],\n",
              "       [    34,  25000],\n",
              "       [    35,  57000],\n",
              "       [    34, 115000],\n",
              "       [    59,  88000],\n",
              "       [    45,  32000],\n",
              "       [    29,  83000],\n",
              "       [    26,  80000],\n",
              "       [    49,  28000],\n",
              "       [    23,  20000],\n",
              "       [    32,  18000],\n",
              "       [    60,  42000],\n",
              "       [    19,  76000],\n",
              "       [    36,  99000],\n",
              "       [    19,  26000],\n",
              "       [    60,  83000],\n",
              "       [    24,  89000],\n",
              "       [    27,  58000],\n",
              "       [    40,  47000],\n",
              "       [    42,  70000],\n",
              "       [    32, 150000],\n",
              "       [    35,  77000],\n",
              "       [    22,  63000],\n",
              "       [    45,  22000],\n",
              "       [    27,  89000],\n",
              "       [    18,  82000],\n",
              "       [    42,  79000],\n",
              "       [    40,  60000],\n",
              "       [    53,  34000],\n",
              "       [    47, 107000],\n",
              "       [    58, 144000],\n",
              "       [    59,  83000],\n",
              "       [    24,  55000],\n",
              "       [    26,  35000],\n",
              "       [    58,  38000],\n",
              "       [    42,  80000],\n",
              "       [    40,  75000],\n",
              "       [    59, 130000],\n",
              "       [    46,  41000],\n",
              "       [    41,  60000],\n",
              "       [    42,  64000],\n",
              "       [    37, 146000],\n",
              "       [    23,  48000],\n",
              "       [    25,  33000],\n",
              "       [    24,  84000],\n",
              "       [    27,  96000],\n",
              "       [    23,  63000],\n",
              "       [    48,  33000],\n",
              "       [    48,  90000],\n",
              "       [    42, 104000]])"
            ]
          },
          "metadata": {},
          "execution_count": 20
        }
      ]
    },
    {
      "cell_type": "code",
      "source": [],
      "metadata": {
        "id": "45WDBwQhBMEM"
      },
      "execution_count": null,
      "outputs": []
    },
    {
      "cell_type": "code",
      "source": [
        "#scaling is done for inputs only(x_train-fit_transform,x_test-transform)\n",
        "from sklearn.preprocessing import MinMaxScaler\n",
        "scaler=MinMaxScaler()\n",
        "\n",
        "x_train=scaler.fit_transform(x_train)\n",
        "x_test=scaler.transform(x_test)"
      ],
      "metadata": {
        "id": "K9xgETKO84sj"
      },
      "execution_count": null,
      "outputs": []
    },
    {
      "cell_type": "code",
      "source": [
        "x_train #now all the values are in between 0 and 1"
      ],
      "metadata": {
        "id": "ncloBrBTBuBC",
        "colab": {
          "base_uri": "https://localhost:8080/"
        },
        "outputId": "31a5fbb0-4d74-4ea7-db03-5006413a99c2"
      },
      "execution_count": null,
      "outputs": [
        {
          "output_type": "execute_result",
          "data": {
            "text/plain": [
              "array([[0.61904762, 0.17777778],\n",
              "       [0.33333333, 0.77777778],\n",
              "       [0.47619048, 0.25925926],\n",
              "       [0.33333333, 0.88888889],\n",
              "       [0.80952381, 0.04444444],\n",
              "       [0.83333333, 0.65925926],\n",
              "       [0.5       , 0.2       ],\n",
              "       [0.47619048, 0.34074074],\n",
              "       [0.42857143, 0.25925926],\n",
              "       [0.42857143, 0.35555556],\n",
              "       [0.4047619 , 0.07407407],\n",
              "       [0.4047619 , 0.25925926],\n",
              "       [0.57142857, 0.42962963],\n",
              "       [0.69047619, 0.25185185],\n",
              "       [0.97619048, 0.1037037 ],\n",
              "       [0.73809524, 0.37037037],\n",
              "       [0.64285714, 0.85925926],\n",
              "       [0.30952381, 0.54814815],\n",
              "       [0.66666667, 0.4962963 ],\n",
              "       [0.69047619, 0.26666667],\n",
              "       [0.19047619, 0.        ],\n",
              "       [1.        , 0.64444444],\n",
              "       [0.47619048, 0.71851852],\n",
              "       [0.52380952, 0.68148148],\n",
              "       [0.57142857, 0.28148148],\n",
              "       [0.4047619 , 0.32592593],\n",
              "       [0.71428571, 0.19259259],\n",
              "       [0.71428571, 0.88148148],\n",
              "       [0.47619048, 0.72592593],\n",
              "       [0.26190476, 0.98518519],\n",
              "       [0.19047619, 0.        ],\n",
              "       [1.        , 0.2       ],\n",
              "       [0.14285714, 0.02962963],\n",
              "       [0.57142857, 0.99259259],\n",
              "       [0.66666667, 0.6       ],\n",
              "       [0.23809524, 0.32592593],\n",
              "       [0.5       , 0.6       ],\n",
              "       [0.23809524, 0.54814815],\n",
              "       [0.54761905, 0.42222222],\n",
              "       [0.64285714, 0.08148148],\n",
              "       [0.35714286, 0.4       ],\n",
              "       [0.04761905, 0.4962963 ],\n",
              "       [0.30952381, 0.43703704],\n",
              "       [0.57142857, 0.48148148],\n",
              "       [0.4047619 , 0.42222222],\n",
              "       [0.35714286, 0.99259259],\n",
              "       [0.52380952, 0.41481481],\n",
              "       [0.78571429, 0.97037037],\n",
              "       [0.66666667, 0.47407407],\n",
              "       [0.4047619 , 0.44444444],\n",
              "       [0.47619048, 0.26666667],\n",
              "       [0.42857143, 0.44444444],\n",
              "       [0.45238095, 0.46666667],\n",
              "       [0.47619048, 0.34074074],\n",
              "       [1.        , 0.68888889],\n",
              "       [0.04761905, 0.4962963 ],\n",
              "       [0.92857143, 0.43703704],\n",
              "       [0.57142857, 0.37037037],\n",
              "       [0.19047619, 0.48148148],\n",
              "       [0.66666667, 0.75555556],\n",
              "       [0.4047619 , 0.34074074],\n",
              "       [0.07142857, 0.39259259],\n",
              "       [0.23809524, 0.21481481],\n",
              "       [0.54761905, 0.53333333],\n",
              "       [0.45238095, 0.13333333],\n",
              "       [0.21428571, 0.55555556],\n",
              "       [0.5       , 0.2       ],\n",
              "       [0.23809524, 0.8       ],\n",
              "       [0.30952381, 0.76296296],\n",
              "       [0.16666667, 0.53333333],\n",
              "       [0.4047619 , 0.41481481],\n",
              "       [0.45238095, 0.40740741],\n",
              "       [0.4047619 , 0.17777778],\n",
              "       [0.69047619, 0.05925926],\n",
              "       [0.4047619 , 0.97777778],\n",
              "       [0.71428571, 0.91111111],\n",
              "       [0.19047619, 0.52592593],\n",
              "       [0.16666667, 0.47407407],\n",
              "       [0.80952381, 0.91111111],\n",
              "       [0.78571429, 0.05925926],\n",
              "       [0.4047619 , 0.33333333],\n",
              "       [0.35714286, 0.72592593],\n",
              "       [0.28571429, 0.68148148],\n",
              "       [0.71428571, 0.13333333],\n",
              "       [0.54761905, 0.48148148],\n",
              "       [0.71428571, 0.6       ],\n",
              "       [0.30952381, 0.02222222],\n",
              "       [0.30952381, 0.41481481],\n",
              "       [0.5952381 , 0.84444444],\n",
              "       [0.97619048, 0.45185185],\n",
              "       [0.        , 0.21481481],\n",
              "       [0.42857143, 0.76296296],\n",
              "       [0.57142857, 0.55555556],\n",
              "       [0.69047619, 0.11111111],\n",
              "       [0.19047619, 0.20740741],\n",
              "       [0.52380952, 0.46666667],\n",
              "       [0.66666667, 0.32592593],\n",
              "       [0.97619048, 0.2       ],\n",
              "       [0.66666667, 0.43703704],\n",
              "       [0.4047619 , 0.56296296],\n",
              "       [0.23809524, 0.32592593],\n",
              "       [0.52380952, 0.31111111],\n",
              "       [0.97619048, 0.94814815],\n",
              "       [0.92857143, 0.08148148],\n",
              "       [0.80952381, 0.17037037],\n",
              "       [0.69047619, 0.72592593],\n",
              "       [0.83333333, 0.94814815],\n",
              "       [0.4047619 , 0.08888889],\n",
              "       [0.95238095, 0.63703704],\n",
              "       [0.64285714, 0.22222222],\n",
              "       [0.11904762, 0.4962963 ],\n",
              "       [0.66666667, 0.05925926],\n",
              "       [0.57142857, 0.37037037],\n",
              "       [0.23809524, 0.51111111],\n",
              "       [0.47619048, 0.32592593],\n",
              "       [0.19047619, 0.51111111],\n",
              "       [0.26190476, 0.0962963 ],\n",
              "       [0.45238095, 0.41481481],\n",
              "       [0.0952381 , 0.2962963 ],\n",
              "       [0.71428571, 0.14814815],\n",
              "       [0.73809524, 0.0962963 ],\n",
              "       [0.47619048, 0.37037037],\n",
              "       [0.21428571, 0.01481481],\n",
              "       [0.66666667, 0.0962963 ],\n",
              "       [0.71428571, 0.93333333],\n",
              "       [0.19047619, 0.01481481],\n",
              "       [0.4047619 , 0.60740741],\n",
              "       [0.5       , 0.32592593],\n",
              "       [0.14285714, 0.08888889],\n",
              "       [0.33333333, 0.02222222],\n",
              "       [0.66666667, 0.54074074],\n",
              "       [0.4047619 , 0.31851852],\n",
              "       [0.9047619 , 0.33333333],\n",
              "       [0.69047619, 0.14074074],\n",
              "       [0.52380952, 0.42222222],\n",
              "       [0.33333333, 0.62962963],\n",
              "       [0.02380952, 0.04444444],\n",
              "       [0.16666667, 0.55555556],\n",
              "       [0.4047619 , 0.54074074],\n",
              "       [0.23809524, 0.12592593],\n",
              "       [0.76190476, 0.03703704],\n",
              "       [0.52380952, 0.32592593],\n",
              "       [0.76190476, 0.21481481],\n",
              "       [0.4047619 , 0.42222222],\n",
              "       [0.52380952, 0.94074074],\n",
              "       [0.66666667, 0.12592593],\n",
              "       [0.5       , 0.41481481],\n",
              "       [0.04761905, 0.43703704],\n",
              "       [0.26190476, 0.44444444],\n",
              "       [0.30952381, 0.45185185],\n",
              "       [0.69047619, 0.07407407],\n",
              "       [0.52380952, 0.34074074],\n",
              "       [0.38095238, 0.71851852],\n",
              "       [0.47619048, 0.48148148],\n",
              "       [0.57142857, 0.44444444],\n",
              "       [0.69047619, 0.23703704],\n",
              "       [0.5       , 0.44444444],\n",
              "       [0.02380952, 0.07407407],\n",
              "       [0.45238095, 0.48148148],\n",
              "       [0.42857143, 0.33333333],\n",
              "       [0.54761905, 0.27407407],\n",
              "       [0.42857143, 0.81481481],\n",
              "       [0.71428571, 0.1037037 ],\n",
              "       [0.42857143, 0.82222222],\n",
              "       [0.78571429, 0.88148148],\n",
              "       [0.21428571, 0.31111111],\n",
              "       [0.47619048, 0.41481481],\n",
              "       [0.5       , 0.34074074],\n",
              "       [0.0952381 , 0.08888889],\n",
              "       [0.35714286, 0.33333333],\n",
              "       [0.71428571, 0.43703704],\n",
              "       [0.95238095, 0.05925926],\n",
              "       [0.83333333, 0.42222222],\n",
              "       [0.33333333, 0.75555556],\n",
              "       [0.85714286, 0.40740741],\n",
              "       [0.28571429, 0.48148148],\n",
              "       [0.95238095, 0.59259259],\n",
              "       [0.19047619, 0.27407407],\n",
              "       [0.64285714, 0.47407407],\n",
              "       [0.14285714, 0.2962963 ],\n",
              "       [0.52380952, 0.44444444],\n",
              "       [0.35714286, 0.0962963 ],\n",
              "       [0.61904762, 0.91851852],\n",
              "       [0.0952381 , 0.02222222],\n",
              "       [0.35714286, 0.26666667],\n",
              "       [0.5952381 , 0.87407407],\n",
              "       [0.14285714, 0.12592593],\n",
              "       [0.66666667, 0.05185185],\n",
              "       [0.4047619 , 0.2962963 ],\n",
              "       [0.85714286, 0.65925926],\n",
              "       [0.71428571, 0.77037037],\n",
              "       [0.4047619 , 0.28148148],\n",
              "       [0.45238095, 0.95555556],\n",
              "       [0.11904762, 0.37777778],\n",
              "       [0.45238095, 0.9037037 ],\n",
              "       [0.30952381, 0.31851852],\n",
              "       [0.35714286, 0.19259259],\n",
              "       [0.64285714, 0.05185185],\n",
              "       [0.28571429, 0.        ],\n",
              "       [0.02380952, 0.02962963],\n",
              "       [0.73809524, 0.43703704],\n",
              "       [0.5       , 0.79259259],\n",
              "       [0.4047619 , 0.42962963],\n",
              "       [0.5       , 0.41481481],\n",
              "       [0.14285714, 0.05925926],\n",
              "       [0.54761905, 0.42222222],\n",
              "       [0.26190476, 0.5037037 ],\n",
              "       [0.85714286, 0.08148148],\n",
              "       [0.4047619 , 0.21481481],\n",
              "       [0.45238095, 0.44444444],\n",
              "       [0.26190476, 0.23703704],\n",
              "       [0.30952381, 0.39259259],\n",
              "       [0.57142857, 0.28888889],\n",
              "       [0.28571429, 0.88888889],\n",
              "       [0.80952381, 0.73333333],\n",
              "       [0.76190476, 0.15555556],\n",
              "       [0.9047619 , 0.87407407],\n",
              "       [0.26190476, 0.34074074],\n",
              "       [0.28571429, 0.54814815],\n",
              "       [0.19047619, 0.00740741],\n",
              "       [0.35714286, 0.11851852],\n",
              "       [0.54761905, 0.42222222],\n",
              "       [0.42857143, 0.13333333],\n",
              "       [0.88095238, 0.81481481],\n",
              "       [0.71428571, 0.85925926],\n",
              "       [0.54761905, 0.41481481],\n",
              "       [0.28571429, 0.34814815],\n",
              "       [0.45238095, 0.42222222],\n",
              "       [0.54761905, 0.35555556],\n",
              "       [0.95238095, 0.23703704],\n",
              "       [0.28571429, 0.74814815],\n",
              "       [0.04761905, 0.25185185],\n",
              "       [0.45238095, 0.43703704],\n",
              "       [0.54761905, 0.32592593],\n",
              "       [0.73809524, 0.54814815],\n",
              "       [0.23809524, 0.47407407],\n",
              "       [0.83333333, 0.4962963 ],\n",
              "       [0.52380952, 0.31111111],\n",
              "       [1.        , 0.14074074],\n",
              "       [0.4047619 , 0.68888889],\n",
              "       [0.07142857, 0.42222222],\n",
              "       [0.47619048, 0.41481481],\n",
              "       [0.5       , 0.67407407],\n",
              "       [0.45238095, 0.31111111],\n",
              "       [0.19047619, 0.42222222],\n",
              "       [0.4047619 , 0.05925926],\n",
              "       [0.85714286, 0.68888889],\n",
              "       [0.28571429, 0.01481481],\n",
              "       [0.5       , 0.88148148],\n",
              "       [0.26190476, 0.20740741],\n",
              "       [0.35714286, 0.20740741],\n",
              "       [0.4047619 , 0.17037037],\n",
              "       [0.54761905, 0.22222222],\n",
              "       [0.54761905, 0.42222222],\n",
              "       [0.5       , 0.88148148],\n",
              "       [0.21428571, 0.9037037 ],\n",
              "       [0.07142857, 0.00740741],\n",
              "       [0.19047619, 0.12592593],\n",
              "       [0.30952381, 0.37777778],\n",
              "       [0.5       , 0.42962963],\n",
              "       [0.54761905, 0.47407407],\n",
              "       [0.69047619, 0.25925926],\n",
              "       [0.54761905, 0.11111111],\n",
              "       [0.45238095, 0.57777778],\n",
              "       [1.        , 0.22962963],\n",
              "       [0.16666667, 0.05185185],\n",
              "       [0.23809524, 0.16296296],\n",
              "       [0.47619048, 0.2962963 ],\n",
              "       [0.42857143, 0.28888889],\n",
              "       [0.04761905, 0.15555556],\n",
              "       [0.9047619 , 0.65925926],\n",
              "       [0.52380952, 0.31111111],\n",
              "       [0.57142857, 0.68888889],\n",
              "       [0.04761905, 0.05925926],\n",
              "       [0.52380952, 0.37037037],\n",
              "       [0.69047619, 0.03703704],\n",
              "       [0.        , 0.52592593],\n",
              "       [0.4047619 , 0.47407407],\n",
              "       [0.92857143, 0.13333333],\n",
              "       [0.38095238, 0.42222222],\n",
              "       [0.73809524, 0.17777778],\n",
              "       [0.21428571, 0.11851852],\n",
              "       [0.02380952, 0.40740741],\n",
              "       [0.5       , 0.47407407],\n",
              "       [0.19047619, 0.48888889],\n",
              "       [0.16666667, 0.48148148],\n",
              "       [0.23809524, 0.51851852],\n",
              "       [0.88095238, 0.17777778],\n",
              "       [0.76190476, 0.54074074],\n",
              "       [0.73809524, 0.54074074],\n",
              "       [0.80952381, 1.        ],\n",
              "       [0.4047619 , 0.37037037],\n",
              "       [0.57142857, 0.28888889],\n",
              "       [0.38095238, 0.20740741],\n",
              "       [0.45238095, 0.27407407],\n",
              "       [0.71428571, 0.11111111],\n",
              "       [0.26190476, 0.20740741],\n",
              "       [0.42857143, 0.27407407],\n",
              "       [0.21428571, 0.28888889],\n",
              "       [0.19047619, 0.76296296]])"
            ]
          },
          "metadata": {},
          "execution_count": 22
        }
      ]
    },
    {
      "cell_type": "code",
      "source": [
        "from sklearn.linear_model import LogisticRegression\n",
        "model=LogisticRegression()"
      ],
      "metadata": {
        "id": "pyoqMAxsB1up"
      },
      "execution_count": null,
      "outputs": []
    },
    {
      "cell_type": "code",
      "source": [
        "model.fit(x_train,y_train)"
      ],
      "metadata": {
        "colab": {
          "base_uri": "https://localhost:8080/"
        },
        "id": "x7vUVLc5CMFJ",
        "outputId": "691766e3-e281-4b8f-aacb-e5a8b3f6bbf6"
      },
      "execution_count": null,
      "outputs": [
        {
          "output_type": "execute_result",
          "data": {
            "text/plain": [
              "LogisticRegression()"
            ]
          },
          "metadata": {},
          "execution_count": 24
        }
      ]
    },
    {
      "cell_type": "code",
      "source": [
        "y_pred=model.predict(x_test)\n",
        "y_pred"
      ],
      "metadata": {
        "colab": {
          "base_uri": "https://localhost:8080/"
        },
        "id": "yziTncnkCQDA",
        "outputId": "5eaa8a3b-3a9e-4ec4-cb6b-5395bbe39da2"
      },
      "execution_count": null,
      "outputs": [
        {
          "output_type": "execute_result",
          "data": {
            "text/plain": [
              "array([0, 0, 0, 0, 0, 0, 0, 1, 0, 0, 0, 0, 0, 0, 0, 0, 0, 0, 1, 0, 0, 1,\n",
              "       0, 1, 0, 1, 0, 0, 0, 0, 0, 0, 1, 0, 0, 0, 0, 0, 0, 0, 0, 0, 0, 0,\n",
              "       1, 0, 0, 1, 0, 1, 1, 0, 0, 0, 1, 0, 0, 0, 0, 0, 0, 1, 0, 0, 0, 1,\n",
              "       0, 0, 0, 0, 1, 0, 0, 0, 0, 0, 0, 0, 1, 1, 1, 1, 0, 0, 1, 0, 0, 1,\n",
              "       0, 0, 0, 1, 0, 0, 0, 0, 0, 0, 1, 1])"
            ]
          },
          "metadata": {},
          "execution_count": 25
        }
      ]
    },
    {
      "cell_type": "code",
      "source": [
        "y_test"
      ],
      "metadata": {
        "colab": {
          "base_uri": "https://localhost:8080/"
        },
        "id": "jsc6QSB5CS1I",
        "outputId": "b6ad278c-6a37-4bf8-d78f-4e5585fe6462"
      },
      "execution_count": null,
      "outputs": [
        {
          "output_type": "execute_result",
          "data": {
            "text/plain": [
              "array([0, 0, 0, 0, 0, 0, 0, 1, 0, 0, 0, 0, 0, 0, 0, 0, 0, 0, 1, 0, 0, 1,\n",
              "       0, 1, 0, 1, 0, 0, 0, 0, 0, 1, 1, 0, 0, 0, 0, 0, 0, 1, 0, 0, 0, 0,\n",
              "       1, 0, 0, 1, 0, 1, 1, 0, 0, 0, 1, 1, 0, 0, 1, 0, 0, 1, 0, 1, 0, 1,\n",
              "       0, 0, 0, 0, 1, 0, 0, 1, 0, 0, 0, 0, 1, 1, 1, 0, 0, 0, 1, 1, 0, 1,\n",
              "       1, 0, 0, 1, 0, 0, 0, 1, 0, 1, 1, 1])"
            ]
          },
          "metadata": {},
          "execution_count": 26
        }
      ]
    },
    {
      "cell_type": "code",
      "source": [
        "import numpy as np\n",
        "np.unique(y_test,return_counts=True)"
      ],
      "metadata": {
        "colab": {
          "base_uri": "https://localhost:8080/"
        },
        "id": "tDJSBuXKCUvg",
        "outputId": "f786aeee-a875-4045-bc9b-2a7a89e07bea"
      },
      "execution_count": null,
      "outputs": [
        {
          "output_type": "execute_result",
          "data": {
            "text/plain": [
              "(array([0, 1]), array([68, 32]))"
            ]
          },
          "metadata": {},
          "execution_count": 27
        }
      ]
    },
    {
      "cell_type": "code",
      "source": [
        "np.unique(y_pred,return_counts=True)"
      ],
      "metadata": {
        "colab": {
          "base_uri": "https://localhost:8080/"
        },
        "id": "afQG1H-0Cd24",
        "outputId": "91d7b8ab-99b7-4c6e-9a98-7aebe272f6fd"
      },
      "execution_count": null,
      "outputs": [
        {
          "output_type": "execute_result",
          "data": {
            "text/plain": [
              "(array([0, 1]), array([77, 23]))"
            ]
          },
          "metadata": {},
          "execution_count": 28
        }
      ]
    },
    {
      "cell_type": "code",
      "source": [
        "from sklearn.metrics import accuracy_score,confusion_matrix\n",
        "accuracy_score(y_test,y_pred)"
      ],
      "metadata": {
        "colab": {
          "base_uri": "https://localhost:8080/"
        },
        "id": "BrdS57pFCnJo",
        "outputId": "c51a4c33-f689-412e-a3c0-e3b0553fc326"
      },
      "execution_count": null,
      "outputs": [
        {
          "output_type": "execute_result",
          "data": {
            "text/plain": [
              "0.89"
            ]
          },
          "metadata": {},
          "execution_count": 29
        }
      ]
    },
    {
      "cell_type": "code",
      "source": [
        "confusion_matrix(y_test,y_pred)"
      ],
      "metadata": {
        "colab": {
          "base_uri": "https://localhost:8080/"
        },
        "id": "PpDxAEPiC5Sg",
        "outputId": "f9cb6ef8-e2e1-49e4-ef18-555dd71fe94f"
      },
      "execution_count": null,
      "outputs": [
        {
          "output_type": "execute_result",
          "data": {
            "text/plain": [
              "array([[67,  1],\n",
              "       [10, 22]])"
            ]
          },
          "metadata": {},
          "execution_count": 30
        }
      ]
    },
    {
      "cell_type": "code",
      "source": [
        "#metrics for classification\n",
        "\n",
        "#precision\n",
        "#accuracy\n",
        "#recall\n",
        "#fl-score"
      ],
      "metadata": {
        "id": "9FNGKi2bC-fn"
      },
      "execution_count": null,
      "outputs": []
    },
    {
      "cell_type": "code",
      "source": [
        "#true Positive-67 values correctly predicted as 1\n",
        "#flase Positive-1 values wrongly precited as 1\n",
        "#True Negative-22 values correctly predicted as 0 \n",
        "#False Negative-10 values wrongly predicted as 0\n",
        "\n",
        "\n",
        "#True -Correctly predicted\n",
        "#False -incorrect predictioon\n",
        "\n",
        "#positive-1\n",
        "#Negative-0"
      ],
      "metadata": {
        "id": "42KXdd4AKvST"
      },
      "execution_count": null,
      "outputs": []
    },
    {
      "cell_type": "code",
      "source": [
        "#Accuracy=True_pos+True_neg)/(TP+TN+FP+FN)\n",
        "accuracy=(67+22)/(67+1+10+22)\n",
        "accuracy"
      ],
      "metadata": {
        "colab": {
          "base_uri": "https://localhost:8080/"
        },
        "id": "maPogeElLnho",
        "outputId": "549e7a62-827c-4fc5-fb5c-70b4a9210c05"
      },
      "execution_count": null,
      "outputs": [
        {
          "output_type": "execute_result",
          "data": {
            "text/plain": [
              "0.89"
            ]
          },
          "metadata": {},
          "execution_count": 34
        }
      ]
    },
    {
      "cell_type": "code",
      "source": [
        "precision=(67)/(67+1)\n",
        "precision"
      ],
      "metadata": {
        "colab": {
          "base_uri": "https://localhost:8080/"
        },
        "id": "Aw0G-B91MXc6",
        "outputId": "c6ea6a60-be0c-4b48-bd03-9f76b60fdd07"
      },
      "execution_count": null,
      "outputs": [
        {
          "output_type": "execute_result",
          "data": {
            "text/plain": [
              "0.9852941176470589"
            ]
          },
          "metadata": {},
          "execution_count": 35
        }
      ]
    },
    {
      "cell_type": "code",
      "source": [
        "recall=(67)/(67+10)\n",
        "recall"
      ],
      "metadata": {
        "colab": {
          "base_uri": "https://localhost:8080/"
        },
        "id": "-ko2dH8zMdIK",
        "outputId": "ca090b2c-1a8f-41c2-eed6-28d23fbce017"
      },
      "execution_count": null,
      "outputs": [
        {
          "output_type": "execute_result",
          "data": {
            "text/plain": [
              "0.8701298701298701"
            ]
          },
          "metadata": {},
          "execution_count": 36
        }
      ]
    },
    {
      "cell_type": "code",
      "source": [
        "f1_score=(2*precision*recall)/(precision+recall)\n",
        "f1_score"
      ],
      "metadata": {
        "colab": {
          "base_uri": "https://localhost:8080/"
        },
        "id": "t0iTI_rnMhjx",
        "outputId": "c47800b7-a23e-4a86-fd68-5b38d638c1ef"
      },
      "execution_count": null,
      "outputs": [
        {
          "output_type": "execute_result",
          "data": {
            "text/plain": [
              "0.9241379310344828"
            ]
          },
          "metadata": {},
          "execution_count": 38
        }
      ]
    },
    {
      "cell_type": "code",
      "source": [
        "from sklearn.metrics import classification_report\n",
        "print(classification_report(y_test,y_pred))\n",
        "\n",
        "#precision,recall and f1-score provides better insights for classification"
      ],
      "metadata": {
        "colab": {
          "base_uri": "https://localhost:8080/"
        },
        "id": "6XtA4VbsMrRy",
        "outputId": "9ba56c5c-517c-49eb-cb36-fba5b25aa4b7"
      },
      "execution_count": null,
      "outputs": [
        {
          "output_type": "stream",
          "name": "stdout",
          "text": [
            "              precision    recall  f1-score   support\n",
            "\n",
            "           0       0.87      0.99      0.92        68\n",
            "           1       0.96      0.69      0.80        32\n",
            "\n",
            "    accuracy                           0.89       100\n",
            "   macro avg       0.91      0.84      0.86       100\n",
            "weighted avg       0.90      0.89      0.88       100\n",
            "\n"
          ]
        }
      ]
    },
    {
      "cell_type": "code",
      "source": [],
      "metadata": {
        "id": "it1XtMmCM3ua"
      },
      "execution_count": null,
      "outputs": []
    }
  ]
}